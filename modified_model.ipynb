{
 "cells": [
  {
   "cell_type": "markdown",
   "id": "d44c1a40",
   "metadata": {},
   "source": [
    "Library importing"
   ]
  },
  {
   "cell_type": "code",
   "execution_count": 1,
   "id": "99dbd793",
   "metadata": {},
   "outputs": [],
   "source": [
    "import os\n",
    "import pandas as pd\n",
    "import regex as re\n",
    "import numpy as np\n",
    "import spacy\n",
    "from rapidfuzz import process\n",
    "from sklearn.feature_extraction.text import TfidfVectorizer, CountVectorizer\n",
    "from sklearn.model_selection import train_test_split\n",
    "from sklearn.naive_bayes import MultinomialNB\n",
    "from sklearn.metrics import classification_report, confusion_matrix, accuracy_score\n",
    "import seaborn as sns\n",
    "import matplotlib.pyplot as plt\n",
    "\n",
    "nlp = spacy.load(\"en_core_web_sm\")"
   ]
  },
  {
   "cell_type": "markdown",
   "id": "d525dd19",
   "metadata": {},
   "source": [
    "Dataseti ayarlama ve yükleme"
   ]
  },
  {
   "cell_type": "code",
   "execution_count": 2,
   "id": "431aa6b6",
   "metadata": {},
   "outputs": [],
   "source": [
    "path = \".\\datasets\""
   ]
  },
  {
   "cell_type": "code",
   "execution_count": 3,
   "id": "9d2e8061",
   "metadata": {},
   "outputs": [],
   "source": [
    "def load_news_articles(base_path):\n",
    "    data = []\n",
    "    categories = os.listdir(base_path)\n",
    "    \n",
    "    for category in categories:\n",
    "        category_path = os.path.join(base_path, category)\n",
    "        if os.path.isdir(category_path):\n",
    "            for filename in os.listdir(category_path):\n",
    "                file_path = os.path.join(category_path, filename)\n",
    "                with open(file_path, 'r', encoding = 'latin1') as file:\n",
    "                    content = file.read()\n",
    "                    data.append((content, category))\n",
    "    \n",
    "    return pd.DataFrame(data, columns = ['text', 'category'])\n",
    "\n",
    "news_df = load_news_articles(path)"
   ]
  },
  {
   "cell_type": "code",
   "execution_count": 4,
   "id": "08922f2b",
   "metadata": {},
   "outputs": [
    {
     "data": {
      "application/vnd.microsoft.datawrangler.viewer.v0+json": {
       "columns": [
        {
         "name": "index",
         "rawType": "int64",
         "type": "integer"
        },
        {
         "name": "text",
         "rawType": "object",
         "type": "string"
        },
        {
         "name": "category",
         "rawType": "object",
         "type": "string"
        }
       ],
       "ref": "692eb843-46e0-401e-b480-67c12432bd7c",
       "rows": [
        [
         "0",
         "Ad sales boost Time Warner profit\n\nQuarterly profits at US media giant TimeWarner jumped 76% to $1.13bn (Â£600m) for the three months to December, from $639m year-earlier.\n\nThe firm, which is now one of the biggest investors in Google, benefited from sales of high-speed internet connections and higher advert sales. TimeWarner said fourth quarter sales rose 2% to $11.1bn from $10.9bn. Its profits were buoyed by one-off gains which offset a profit dip at Warner Bros, and less users for AOL.\n\nTime Warner said on Friday that it now owns 8% of search-engine Google. But its own internet business, AOL, had has mixed fortunes. It lost 464,000 subscribers in the fourth quarter profits were lower than in the preceding three quarters. However, the company said AOL's underlying profit before exceptional items rose 8% on the back of stronger internet advertising revenues. It hopes to increase subscribers by offering the online service free to TimeWarner internet customers and will try to sign up AOL's existing customers for high-speed broadband. TimeWarner also has to restate 2000 and 2003 results following a probe by the US Securities Exchange Commission (SEC), which is close to concluding.\n\nTime Warner's fourth quarter profits were slightly better than analysts' expectations. But its film division saw profits slump 27% to $284m, helped by box-office flops Alexander and Catwoman, a sharp contrast to year-earlier, when the third and final film in the Lord of the Rings trilogy boosted results. For the full-year, TimeWarner posted a profit of $3.36bn, up 27% from its 2003 performance, while revenues grew 6.4% to $42.09bn. \"Our financial performance was strong, meeting or exceeding all of our full-year objectives and greatly enhancing our flexibility,\" chairman and chief executive Richard Parsons said. For 2005, TimeWarner is projecting operating earnings growth of around 5%, and also expects higher revenue and wider profit margins.\n\nTimeWarner is to restate its accounts as part of efforts to resolve an inquiry into AOL by US market regulators. It has already offered to pay $300m to settle charges, in a deal that is under review by the SEC. The company said it was unable to estimate the amount it needed to set aside for legal reserves, which it previously set at $500m. It intends to adjust the way it accounts for a deal with German music publisher Bertelsmann's purchase of a stake in AOL Europe, which it had reported as advertising revenue. It will now book the sale of its stake in AOL Europe as a loss on the value of that stake.\n",
         "business"
        ],
        [
         "1",
         "Dollar gains on Greenspan speech\n\nThe dollar has hit its highest level against the euro in almost three months after the Federal Reserve head said the US trade deficit is set to stabilise.\n\nAnd Alan Greenspan highlighted the US government's willingness to curb spending and rising household savings as factors which may help to reduce it. In late trading in New York, the dollar reached $1.2871 against the euro, from $1.2974 on Thursday. Market concerns about the deficit has hit the greenback in recent months. On Friday, Federal Reserve chairman Mr Greenspan's speech in London ahead of the meeting of G7 finance ministers sent the dollar higher after it had earlier tumbled on the back of worse-than-expected US jobs data. \"I think the chairman's taking a much more sanguine view on the current account deficit than he's taken for some time,\" said Robert Sinche, head of currency strategy at Bank of America in New York. \"He's taking a longer-term view, laying out a set of conditions under which the current account deficit can improve this year and next.\"\n\nWorries about the deficit concerns about China do, however, remain. China's currency remains pegged to the dollar and the US currency's sharp falls in recent months have therefore made Chinese export prices highly competitive. But calls for a shift in Beijing's policy have fallen on deaf ears, despite recent comments in a major Chinese newspaper that the \"time is ripe\" for a loosening of the peg. The G7 meeting is thought unlikely to produce any meaningful movement in Chinese policy. In the meantime, the US Federal Reserve's decision on 2 February to boost interest rates by a quarter of a point - the sixth such move in as many months - has opened up a differential with European rates. The half-point window, some believe, could be enough to keep US assets looking more attractive, and could help prop up the dollar. The recent falls have partly been the result of big budget deficits, as well as the US's yawning current account gap, both of which need to be funded by the buying of US bonds and assets by foreign firms and governments. The White House will announce its budget on Monday, and many commentators believe the deficit will remain at close to half a trillion dollars.\n",
         "business"
        ],
        [
         "2",
         "Yukos unit buyer faces loan claim\n\nThe owners of embattled Russian oil giant Yukos are to ask the buyer of its former production unit to pay back a $900m (Â£479m) loan.\n\nState-owned Rosneft bought the Yugansk unit for $9.3bn in a sale forced by Russia to part settle a $27.5bn tax claim against Yukos. Yukos' owner Menatep Group says it will ask Rosneft to repay a loan that Yugansk had secured on its assets. Rosneft already faces a similar $540m repayment demand from foreign banks. Legal experts said Rosneft's purchase of Yugansk would include such obligations. \"The pledged assets are with Rosneft, so it will have to pay real money to the creditors to avoid seizure of Yugansk assets,\" said Moscow-based US lawyer Jamie Firestone, who is not connected to the case. Menatep Group's managing director Tim Osborne told the Reuters news agency: \"If they default, we will fight them where the rule of law exists under the international arbitration clauses of the credit.\"\n\nRosneft officials were unavailable for comment. But the company has said it intends to take action against Menatep to recover some of the tax claims and debts owed by Yugansk. Yukos had filed for bankruptcy protection in a US court in an attempt to prevent the forced sale of its main production arm. The sale went ahead in December and Yugansk was sold to a little-known shell company which in turn was bought by Rosneft. Yukos claims its downfall was punishment for the political ambitions of its founder Mikhail Khodorkovsky and has vowed to sue any participant in the sale.\n",
         "business"
        ],
        [
         "3",
         "High fuel prices hit BA's profits\n\nBritish Airways has blamed high fuel prices for a 40% drop in profits.\n\nReporting its results for the three months to 31 December 2004, the airline made a pre-tax profit of Â£75m ($141m) compared with Â£125m a year earlier. Rod Eddington, BA's chief executive, said the results were \"respectable\" in a third quarter when fuel costs rose by Â£106m or 47.3%. BA's profits were still better than market expectation of Â£59m, and it expects a rise in full-year revenues.\n\nTo help offset the increased price of aviation fuel, BA last year introduced a fuel surcharge for passengers.\n\nIn October, it increased this from Â£6 to Â£10 one-way for all long-haul flights, while the short-haul surcharge was raised from Â£2.50 to Â£4 a leg. Yet aviation analyst Mike Powell of Dresdner Kleinwort Wasserstein says BA's estimated annual surcharge revenues - Â£160m - will still be way short of its additional fuel costs - a predicted extra Â£250m. Turnover for the quarter was up 4.3% to Â£1.97bn, further benefiting from a rise in cargo revenue. Looking ahead to its full year results to March 2005, BA warned that yields - average revenues per passenger - were expected to decline as it continues to lower prices in the face of competition from low-cost carriers. However, it said sales would be better than previously forecast. \"For the year to March 2005, the total revenue outlook is slightly better than previous guidance with a 3% to 3.5% improvement anticipated,\" BA chairman Martin Broughton said. BA had previously forecast a 2% to 3% rise in full-year revenue.\n\nIt also reported on Friday that passenger numbers rose 8.1% in January. Aviation analyst Nick Van den Brul of BNP Paribas described BA's latest quarterly results as \"pretty modest\". \"It is quite good on the revenue side and it shows the impact of fuel surcharges and a positive cargo development, however, operating margins down and cost impact of fuel are very strong,\" he said. Since the 11 September 2001 attacks in the United States, BA has cut 13,000 jobs as part of a major cost-cutting drive. \"Our focus remains on reducing controllable costs and debt whilst continuing to invest in our products,\" Mr Eddington said. \"For example, we have taken delivery of six Airbus A321 aircraft and next month we will start further improvements to our Club World flat beds.\" BA's shares closed up four pence at 274.5 pence.\n",
         "business"
        ],
        [
         "4",
         "Pernod takeover talk lifts Domecq\n\nShares in UK drinks and food firm Allied Domecq have risen on speculation that it could be the target of a takeover by France's Pernod Ricard.\n\nReports in the Wall Street Journal and the Financial Times suggested that the French spirits firm is considering a bid, but has yet to contact its target. Allied Domecq shares in London rose 4% by 1200 GMT, while Pernod shares in Paris slipped 1.2%. Pernod said it was seeking acquisitions but refused to comment on specifics.\n\nPernod's last major purchase was a third of US giant Seagram in 2000, the move which propelled it into the global top three of drinks firms. The other two-thirds of Seagram was bought by market leader Diageo. In terms of market value, Pernod - at 7.5bn euros ($9.7bn) - is about 9% smaller than Allied Domecq, which has a capitalisation of Â£5.7bn ($10.7bn; 8.2bn euros). Last year Pernod tried to buy Glenmorangie, one of Scotland's premier whisky firms, but lost out to luxury goods firm LVMH. Pernod is home to brands including Chivas Regal Scotch whisky, Havana Club rum and Jacob's Creek wine. Allied Domecq's big names include Malibu rum, Courvoisier brandy, Stolichnaya vodka and Ballantine's whisky - as well as snack food chains such as Dunkin' Donuts and Baskin-Robbins ice cream. The WSJ said that the two were ripe for consolidation, having each dealt with problematic parts of their portfolio. Pernod has reduced the debt it took on to fund the Seagram purchase to just 1.8bn euros, while Allied has improved the performance of its fast-food chains.\n",
         "business"
        ],
        [
         "5",
         "Japan narrowly escapes recession\n\nJapan's economy teetered on the brink of a technical recession in the three months to September, figures show.\n\nRevised figures indicated growth of just 0.1% - and a similar-sized contraction in the previous quarter. On an annual basis, the data suggests annual growth of just 0.2%, suggesting a much more hesitant recovery than had previously been thought. A common technical definition of a recession is two successive quarters of negative growth.\n\nThe government was keen to play down the worrying implications of the data. \"I maintain the view that Japan's economy remains in a minor adjustment phase in an upward climb, and we will monitor developments carefully,\" said economy minister Heizo Takenaka. But in the face of the strengthening yen making exports less competitive and indications of weakening economic conditions ahead, observers were less sanguine. \"It's painting a picture of a recovery... much patchier than previously thought,\" said Paul Sheard, economist at Lehman Brothers in Tokyo. Improvements in the job market apparently have yet to feed through to domestic demand, with private consumption up just 0.2% in the third quarter.\n",
         "business"
        ],
        [
         "6",
         "Jobs growth still slow in the US\n\nThe US created fewer jobs than expected in January, but a fall in jobseekers pushed the unemployment rate to its lowest level in three years.\n\nAccording to Labor Department figures, US firms added only 146,000 jobs in January. The gain in non-farm payrolls was below market expectations of 190,000 new jobs. Nevertheless it was enough to push down the unemployment rate to 5.2%, its lowest level since September 2001. The job gains mean that President Bush can celebrate - albeit by a very fine margin - a net growth in jobs in the US economy in his first term in office. He presided over a net fall in jobs up to last November's Presidential election - the first President to do so since Herbert Hoover. As a result, job creation became a key issue in last year's election. However, when adding December and January's figures, the administration's first term jobs record ended in positive territory.\n\nThe Labor Department also said it had revised down the jobs gains in December 2004, from 157,000 to 133,000.\n\nAnalysts said the growth in new jobs was not as strong as could be expected given the favourable economic conditions. \"It suggests that employment is continuing to expand at a moderate pace,\" said Rick Egelton, deputy chief economist at BMO Financial Group. \"We are not getting the boost to employment that we would have got given the low value of the dollar and the still relatively low interest rate environment.\" \"The economy is producing a moderate but not a satisfying amount of job growth,\" said Ken Mayland, president of ClearView Economics. \"That means there are a limited number of new opportunities for workers.\"\n",
         "business"
        ],
        [
         "7",
         "India calls for fair trade rules\n\nIndia, which attends the G7 meeting of seven leading industrialised nations on Friday, is unlikely to be cowed by its newcomer status.\n\nIn London on Thursday ahead of the meeting, India's finance minister, lashed out at the restrictive trade policies of the G7 nations. He objected to subsidies on agriculture that make it hard for developing nations like India to compete. He also called for reform of the United Nations, the World Bank and the IMF.\n\nPalaniappan Chidambaram, India's finance minister, argued that these organisations need to take into account the changing world order, given India and China's integration into the global economy. He said the issue is not globalisation but \"the terms of engagement in globalisation.\" Mr Chidambaram is attending the G7 meeting as part of the G20 group of nations, which account for two thirds of the world's population. At a conference on developing enterprise hosted by UK finance minister Gordon Brown on Friday, he said that he was in favour of floating exchange rates because they help countries cope with economic shocks. \"A flexible exchange rate is one more channel for absorbing both positive and negative shocks,\" he told the conference. India, along with China, Brazil, South Africa and Russia, has been invited to take part in the G7 meeting taking place in London on Friday and Saturday. China is expected to face renewed pressure to abandon its fixed exchange rate, which G7 nations, in particular the US, have blamed for a surge in cheap Chinese exports. \"Some countries have tried to use fixed exchange rates. I do not wish to make any judgements,\" Mr Chidambaram said. Separately, the IMF warned on Thursday that India's budget deficit was too large and would hamper the country's economic growth, which it forecast to be around 6.5% in the year to March 2005. In the year to March 2004, the Indian economy grew by 8.5%.\n",
         "business"
        ],
        [
         "8",
         "Ethiopia's crop production up 24%\n\nEthiopia produced 14.27 million tonnes of crops in 2004, 24% higher than in 2003 and 21% more than the average of the past five years, a report says.\n\nIn 2003, crop production totalled 11.49 million tonnes, the joint report from the Food and Agriculture Organisation and the World Food Programme said. Good rains, increased use of fertilizers and improved seeds contributed to the rise in production. Nevertheless, 2.2 million Ethiopians will still need emergency assistance.\n\nThe report calculated emergency food requirements for 2005 to be 387,500 tonnes. On top of that, 89,000 tonnes of fortified blended food and vegetable oil for \"targeted supplementary food distributions for a survival programme for children under five and pregnant and lactating women\" will be needed.\n\nIn eastern and southern Ethiopia, a prolonged drought has killed crops and drained wells. Last year, a total of 965,000 tonnes of food assistance was needed to help seven million Ethiopians. The Food and Agriculture Organisation (FAO) recommend that the food assistance is bought locally. \"Local purchase of cereals for food assistance programmes is recommended as far as possible, so as to assist domestic markets and farmers,\" said Henri Josserand, chief of FAO's Global Information and Early Warning System. Agriculture is the main economic activity in Ethiopia, representing 45% of gross domestic product. About 80% of Ethiopians depend directly or indirectly on agriculture.\n",
         "business"
        ],
        [
         "9",
         "Court rejects $280bn tobacco case\n\nA US government claim accusing the country's biggest tobacco companies of covering up the effects of smoking has been thrown out by an appeal court.\n\nThe demand for $280bn (Â£155bn) - filed by the Clinton administration in 1999 - was rejected in a 2-1 decision. The court in Washington found that the case could not be brought under federal anti-racketeering laws. Among the accused were Altria Group, RJ Reynolds Tobacco, Lorillard Tobacco, Liggett Group and Brown and Williamson. In its case, the government claimed tobacco firms manipulated nicotine levels to increase addiction, targeted teenagers with multi-billion dollar advertising campaigns, lied about the dangers of smoking and ignored research to the contrary.\n\nProsecutors wanted the cigarette firms to surrender $280bn in profits accumulated over the past 50 years and impose tougher rules on marketing their products. But the Court of Appeals for the District of Columbia ruled that the US government could not sue the firms under legislation drawn up to counteract Mafia infiltration of business. The tobacco companies deny that they illegally conspired to promote smoking and defraud the public. They also say they have already met many of the government's demands in a landmark $206bn settlement reached with 46 states in 1998. Shares of tobacco companies closed higher after the ruling, with Altria rising 5% and Reynolds showing gains of 4.5%.\n",
         "business"
        ],
        [
         "10",
         "Ask Jeeves tips online ad revival\n\nAsk Jeeves has become the third leading online search firm this week to thank a revival in internet advertising for improving fortunes.\n\nThe firm's revenue nearly tripled in the fourth quarter of 2004, exceeding $86m (Â£46m). Ask Jeeves, once among the best-known names on the web, is now a relatively modest player. Its $17m profit for the quarter was dwarfed by the $204m announced by rival Google earlier in the week. During the same quarter, Yahoo earned $187m, again tipping a resurgence in online advertising.\n\nThe trend has taken hold relatively quickly. Late last year, marketing company Doubleclick, one of the leading providers of online advertising, warned that some or all of its business would have to be put up for sale. But on Thursday, it announced that a sharp turnaround had brought about an unexpected increase in profits. Neither Ask Jeeves nor Doubleclick thrilled investors with their profit news, however. In both cases, their shares fell by some 4%. Analysts attributed the falls to excessive expectations in some quarters, fuelled by the dramatic outperformance of Google on Tuesday.\n",
         "business"
        ],
        [
         "11",
         "Indonesians face fuel price rise\n\nIndonesia's government has confirmed it is considering raising fuel prices by as much as 30%.\n\nMillions of Indonesians use kerosene for basic cooking, and prices have been heavily subsidised for years. President Susilo Bambang Yudhoyono's government has said it wants to curb fuel subsidies and direct the money into aid programmes for the poor. But critics argue cutting subsidies will hurt the poorer families that his government says it wants to help. Millions of people were left homeless in Indonesia Aceh's region following the earthquake and tsunami disaster in late December.\n\nIndonesia pays subsidies to importers in order to stabilise domestic fuel prices, but higher oil prices have forced the government to spend more on holding prices down. It spent 59.2 trillion rupiah ($6.58bn; Â£3.5bn) on fuel subsidies in 2004, a sum far in excess of its original projection of 14.5 trillion rupiah. Since President Yudhoyono's government came to power in October, it has indicated its intention of raising domestic fuel prices by cutting subsidies. \"The (January to March) quarter of this year is the best time for us to increase fuel prices,\" said Sri Mulyani Indrawati, State Minister for National Development Planning. \"We are still considering if a 30% hike is suitable at the moment. The sooner the better for the state budget.\" The BBC's correspondent in Jakarta, Rachel Harvey, told World Business Report that there was likely to be a strong public reaction to any price rise. \"The big question is whether they go for one big, short, sharp shock and raise prices between 20% and 30% or whether they try to stagger it,\" she said. Indonesia's previous government, led by President Megawati Sukarnoputri, also attempted to cut subsidies in 2003, but was forced to back down in the face of public protests.\n",
         "business"
        ],
        [
         "12",
         "Peugeot deal boosts Mitsubishi\n\nStruggling Japanese car maker Mitsubishi Motors has struck a deal to supply French car maker Peugeot with 30,000 sports utility vehicles (SUV).\n\nThe two firms signed a Memorandum of Understanding, and say they expect to seal a final agreement by Spring 2005. The alliance comes as a badly-needed boost for loss-making Mitsubishi, after several profit warnings and poor sales. The SUVs will be built in Japan using Peugeot's diesel engines and sold mainly in the European market. Falling sales have left Mitsubishi Motors with underused capacity, and the production deal with Peugeot gives it a chance to utilise some of it.\n\nIn January, Mitsubishi Motors issued its third profits warning in nine months, and cut its sales forecasts for the year to March 2005. Its sales have slid 41% in the past year, catalysed by the revelation that the company had systematically been hiding records of faults and then secretly repairing vehicles. As a result, the Japanese car maker has sought a series of financial bailouts. Last month it said it was looking for a further 540bn yen ($5.2bn; Â£2.77bn) in fresh financial backing, half of it from other companies in the Mitsubishi group. US-German carmaker DaimlerChrylser, a 30% shareholder in Mitsubishi Motors, decided in April 2004 not to pump in any more money. The deal with Peugeot was celebrated by Mitsubishi's newly-appointed chief executive Takashi Nishioka, who took over after three top bosses stood down last month to shoulder responsibility for the firm's troubles. Mitsubishi Motors has forecast a net loss of 472bn yen in its current financial year to March 2005. Last month, it signed a production agreement with Japanese rival Nissan Motor to supply it with 36,000 small cars for sale in Japan. It has been making cars for Nissan since 2003.\n",
         "business"
        ],
        [
         "13",
         "Telegraph newspapers axe 90 jobs\n\nThe Daily and Sunday Telegraph newspapers are axing 90 journalist jobs - 17% of their editorial staff.\n\nThe Telegraph Group says the cuts are needed to fund an Â£150m investment in new printing facilities. Journalists at the firm met on Friday afternoon to discuss how to react to the surprise announcement. The cuts come against a background of fierce competition for readers and sluggish advertising revenues amid competition from online advertising. The National Union of Journalists has called on the management to recall the notice of redundancy by midday on Monday or face a strike ballot.\n\nPearson's Financial Times said last week it was offering voluntary redundancy to about 30 reporters.\n\nThe National Union of Journalists said it stood strongly behind the journalists and did not rule out a strike. \"Managers have torn up agreed procedures and kicked staff in the teeth by sacking people to pay for printing facilities,\" said Jeremy Dear, NUJ General Secretary. NUJ official Barry Fitzpatrick said the company had ignored the 90-day consultation period required for companies planning more than 10 redundancies. \"They have shown a complete disregard for the consultative rights of our members,\" said Mr Fitzpatrick, who added that the company now planned to observe the consultation procedures. The two Telegraph titles currently employ 521 journalists.\n\nSome broadsheet newspapers - especially those which have not moved to a tabloid format - have suffered circulation declines, which are hitting revenues. The Telegraph has announced no plans to go tabloid although both The Independent and The Times have seen circulation rise since shrinking in size.\n\nThe Guardian is hedging its bets, planning a larger tabloid format like those popular in continental Europe. The Telegraph Group was bought by the Barclay twins - Frederick and David - last year, having previously been owned by Lord Conrad Black's Hollinger International. The brothers are currently mulling the sale of another of their businesses, retailer Littlewoods.\n\nTelegraph executive Murdoch MacLennan said the two newspapers would add eight colour pages in the coming months.\n\n\"Journalists are the lifeblood of any newspaper, and maintaining the quality of The Daily Telegraph and The Sunday Telegraph for our readers is vital,\" he said. \"However, action to improve our production capability and secure our titles against the competition is also vital.\" Many newspapers are investing in new printing machinery that enables them to print more colour pages, or in some cases, have colour on every page. They are hoping that by boosting colour it will make their publications more attractive to advertisers and readers alike. In recent months News Corp's News International unit, which publishes The Sun and the News of the World, the Guardian Media Group, Trinity Mirror and the Daily Mail & General Trust have all announced substantial investments in new printing plants.\n",
         "business"
        ],
        [
         "14",
         "Air passengers win new EU rights\n\nAir passengers who are unable to board their flights because of overbooking, cancellations or flight delays can now demand greater compensation.\n\nNew EU rules set compensation at between 250 euros (Â£173) and 600 euros, depending on the length of the flight. The new rules will apply to all scheduled and charter flights, including budget airlines. Airlines have attacked the legislation saying they could be forced to push prices higher to cover the extra cost. The European Commission is facing two legal challenges - one from the European Low-fare Airlines Association (ELAA) and the other from the International Air Transport Association (IATA), which has attacked the package as a \"bad piece of legislation\". Previously, passengers could claim between 150 euros and 300 euros if they had been stopped from boarding.\n\nHowever, only scheduled flight operators were obliged to offer compensation in cases of overbooking and they did not have to offer compensation for flight cancellations.\n\nThe EU decided to increase passenger compensation in a bid to deter airlines from deliberately overbooking flights. Overbooking can often lead to 'bumping' - when a passenger is moved to a later flight. When this happens against a passenger's will, airlines will now have to offer compensation. In addition, if a flight is cancelled or delayed for more than two hours through the fault of the airline, all passengers must be paid compensation.\n\nHowever, airlines do not have to offer compensation if flights are cancelled or delayed due to \"extraordinary circumstances\". Airlines fear that \"extraordinary circumstances\" may not include bad weather, security alerts or strikes - events which are outside of their control. All EU-based airlines and operators of flights which take off from the EU will have to adhere to the new compensation regime which came into force on Thursday. Low-cost airlines have criticised the new compensation levels, arguing that the pay-out could be worth more than the ticket. \"It's a preposterous piece of legislation, we among all airlines are fighting this,\" Ryanair deputy chief executive Michael Cawley told Radio 4's Today programme.\n\nThe European Regions Airline Association (ERAA) claims that neither airlines nor consumers were consulted over the changes. Andy Clarke, ERAA director of air transport, said that the EC advice misleads customers as it leads them to believe that airlines could be liable for payouts if flights are delayed because of bad weather.\n\nEC spokeswoman Marja Quillinan-Meiland conceded there were \"grey areas\" but said \"these are not as big as the airlines are making out\". In cases of dispute, national enforcement bodies would decide whether the passenger had a case, she said. New technology means it is easier for airlines to take off and land in bad weather, she added. The ERAA's Mr Clarke also warned that while airlines would comply with the new rules, the extra costs would be passed onto passengers. \"We reckon it's going to cost European air passengers - not the airlines, the airlines have no money, it has to be paid by passengers - 1.5bn euros, that's over Â£1bn a year loaded onto European passengers,\" Mr Clarke said. \"That's basically a transfer of money from passengers whose journeys are not disrupted to passengers whose journeys are disrupted.\"\n\nOn Wednesday, Jacques Barrot, vice president of the European Commission and also Commissioner for Transport, said that the changes were necessary. \"The boom in air travel needs to be accompanied by proper protection of passengers' right.\" \"This is a concrete example of how the Union benefits people's daily lives,\" he added. The EC has launched an information campaign in airports and travel agencies to inform airline passengers of their new rights.\n",
         "business"
        ],
        [
         "15",
         "China keeps tight rein on credit\n\nChina's efforts to stop the economy from overheating by clamping down on credit will continue into 2005, state media report.\n\nThe curbs were introduced earlier this year to ward off the risk that rapid expansion might lead to soaring prices. There were also fears that too much stress might be placed on the fragile banking system. Growth in China remains at a breakneck 9.1%, and corporate investment is growing at more than 25% a year. The breakneck pace of economic expansion has kept growth above 9% for more than a year. Rapid tooling-up of China's manufacturing sector means a massive demand for energy - one of the factors which has kept world oil prices sky-high for most of this year. In theory, the government has a 7% growth target, but continues to insist that the overshoot does not mean a \"hard landing\" in the shape of an overbalancing economy. A low exchange rate - China's yuan is pegged to a rate of 8.28 to the dollar, which seems to be in relentless decline - means Chinese exports are cheap on world markets. China has thus far resisted international pressure to break the link or at least to shift the level of its peg. To some extent, the credit controls do seem to be taking effect. Industrial output grew 15.7% in the year to October, down from 23% in February, and inflation slowed to 4.3% - although retail sales are still booming.\n",
         "business"
        ],
        [
         "16",
         "Parmalat boasts doubled profits\n\nParmalat, the Italian food group at the centre of one of Europe's most painful corporate scandals, has reported a doubling in profit.\n\nIts pre-tax earnings in the fourth quarter were 77m euros (Â£53m; $100m), up from 38m in the same period of 2003. Less welcome was the news that the firm had been fined 11m euros for having violated takeover rules five years ago. The firm sought bankruptcy protection in December 2003 after disclosing a 4bn-euro hole in its accounts. Overall, the company's debt is close to 12bn euros, and is falling only slowly. Its brands, well-known in Italy and overseas, have continued to perform strongly, however, and have barely lost revenue since the scandal broke.\n\nBut a crucial factor for the company's future is the legal unwinding of its intensely complex financial position. On Tuesday, the company's administrator, turnaround expert Enrico Bondi, sued Morgan Stanley, its former banker, to return 136m euros relating to a 2003 bond deal. That brought to 49 the number of banks that Mr Bondi has sued, a mass of legal action that could bring in as much as 3bn euros. The company has also sued former auditors and financial advisors for damages. And criminal cases against the company's former management are proceeding separately.\n",
         "business"
        ],
        [
         "17",
         "India's rupee hits five-year high\n\nIndia's rupee has hit a five-year high after Standard & Poor's (S&P) raised the country's foreign currency rating.\n\nThe rupee climbed to 43.305 per US dollar on Thursday, up from a close of 43.41. The currency has gained almost 1% in the past three sessions. S&P, which rates borrowers' creditworthiness, lifted India's rating by one notch to 'BB+'. With Indian assets now seen as less of a gamble, more cash is expected to flow into its markets, buoying the rupee.\n\n\"The upgrade is positive and basically people will use it as an excuse to come back to India,\" said Bhanu Baweja, a strategist at UBS. \"Money has moved out from India in the first two or three weeks of January into other markets like Korea and Thailand and this upgrade should lead to a reversal.\" India's foreign currency rating is now one notch below investment grade, which starts at 'BBB-'. The increase has put it on the same level as Romania, Egypt and El Salvador, and one level below Russia.\n",
         "business"
        ],
        [
         "18",
         "India widens access to telecoms\n\nIndia has raised the limit for foreign direct investment in telecoms companies from 49% to 74%.\n\nCommunications Minister Dayanidhi Maran said that there is a need to fund the fast-growing mobile market. The government hopes to increase the number of mobile users from 95 million to between 200 and 250 million by 2007. \"We need at least $20bn (Â£10.6bn) in investment and part of this has to come as foreign direct investment,\" said Mr Maran. The decision to raise the limit for foreign investors faced considerable opposition from the communist parties, which give crucial support to the coalition headed by Prime Minister Manmohan Singh. Potential foreign investors will however need government approval before they increase their stake beyond 49%, Mr Maran said. Key positions, such as those of chief executive, chief technology officer and chief financial officer are to be held by Indians, he added.\n\nAnalysts and investors have welcomed the government decision. \"It is a positive development for carriers and the investment community, looking to take a longer-term view of the huge growth in the Indian telecoms market,\" said Gartner's principal analyst Kobita Desai. \"The FDI relaxation coupled with rapid local market growth could really ignite interest in the Indian telecommunication industry,\" added Ernst and Young's Sanjay Mehta. Investment bank Morgan Stanley has forecast that India's mobile market is likely to grow by about 40% a year until 2007. The Indian mobile market is currently dominated by four companies, Bharti Televentures which has allied itself with Singapore Telecom, Essar which is linked with Hong Kong-based Hutchison Whampoa, the Sterling group and the Tata group.\n",
         "business"
        ],
        [
         "19",
         "Call centre users 'lose patience'\n\nCustomers trying to get through to call centres are getting impatient and quicker to hang up, a survey suggests.\n\nOnce past the welcome message, callers on average hang up after just 65 seconds of listening to canned music. The drop in patience comes as the number of calls to call centres is growing at a rate of 20% every year. \"Customers are getting used to the idea of an 'always available' society,\" says Cara Diemont of IT firm Dimension Data, which commissioned the survey. However, call centres also saw a sharp increase of customers simply abandoning calls, she says, from just over 5% in 2003 to a record 13.3% during last year. When automated phone message systems are taken out of the equation, where customers have to pick their way through multiple options and messages, the number of abandoned calls is even higher - a sixth of all callers give up rather than wait. One possible reason for the lack in patience, Ms Diemont says, is the fact that more customers are calling 'on the move' using their mobile phones.\n\nThe surge in customers trying to get through to call centres is also a reflection of the centres' growing range of tasks. \"Once a call centre may have looked after mortgages, now its agents may also be responsible for credit cards, insurance and current accounts,\" Ms Diemont says. Problems are occurring because increased responsibility is not going hand-in-hand with more training, the survey found.\n\nIn what Dimension Data calls an \"alarming development\", the average induction time for a call centre worker fell last year from 36 to just 21 days, leaving \"agents not equipped to deal with customers\". This, Ms Diemont warns, is \"scary\" and not good for the bottom line either. Poor training frustrates both call centre workers and customers. As a result, call centres have a high \"churn rate\", with nearly a quarter of workers throwing in the towel every year, which in turn forces companies to pay for training new staff. Resolution rates - the number of calls where a customer's query is resolved to mutual satisfaction - are running at just 50%. When the query is passed on to a second or third person - a specialist or manager - rates rise to about 70%, but that is still well below the industry target of an 85% resolution rate.\n\nSuggestions that \"outsourcing\" - relocating call centres to low-cost countries like India or South Africa - is to blame are wrong, Ms Diemont says.\n\nThere are \"no big differences in wait time and call resolution\" between call centres based in Europe or North America and those in developing countries around the world. \"You can make call centres perform anywhere if you have good management and the right processes in place,\" she says. However, companies that decide to \"offshore\" their operations are driven not just by cost considerations. Only 42% of them say that saving money is the main consideration when closing domestic call centre operations. Half of them argue that workers in other countries offer better skills for the money. But not everybody believes that outsourcing and offshoring are the solution. Nearly two-thirds of all firms polled for the survey have no plans to offshore their call centres. They give three key reasons for not making the move:\n\n- call centre operations are part of their business \"core function\", \n - they are worried about the risk of going abroad, \n - they fear that they will damage their brand if they join the offshoring drive. The survey was conducted by Sunovate on behalf of Dimension Data, and is based on in-depth questionnaires of 166 call centres in 24 countries and five continents. What are your experiences with call centres? Are you happy to listen to Vivaldi or Greensleeves, or do you want an immediate response? And if you work in a call centre: did your training prepare you for your job?\n",
         "business"
        ],
        [
         "20",
         "Rank 'set to sell off film unit'\n\nLeisure group Rank could unveil plans to demerge its film services unit and sell its media business, reports claim.\n\nRank, formerly famous for the Carry On series, will expose the shake-up at the announcement of its results on Friday, the Sunday Telegraph reported. Advisors Goldman Sachs are understood to have valued its demerged Deluxe Film unit at Â£300m, the report added. Speculation of a possible shake-up has mounted since Rank announced a study into a possible demerger in September. Since Mike Smith's appointment as chief executive in 1999, the group has focused on fewer businesses and embarked on a major cost-cutting programme which has seen it dispose of a number of businesses, including the Odeon cinema chain and the Pinewood studios. The move left the group with three core divisions: gaming, Hard Rock and Deluxe Films, which provides technical services to Hollywood studios.\n\nRank now aims to concentrate on its gaming, bars and hotels business, including extending its Hard Rock brand to its casinos - trials of which have been a success. It also owns Deluxe Media, which makes and distributes DVDs and videos. However, that business is seen as less successful. Last year it made profits of Â£21.5m on a turnover of Â£392.1m and experts suggest its success in moving to DVDs from VHS video could make it an attractive target for a private equity buyer. A spokesman for the firm refused to comment on the reports, but said any results from the demerger study were likely to be set out when it unveiled its results on Friday. Analysts predict the firm is likely to report a slight drop in annual pre-tax profits to Â£170m from Â£194m last year. Formed in the 1940s the firm was a leading UK film producer and cinema owner for many years. It has now diversified into a range of other leisure activities - mainly in the UK - including hotels, roadside service areas and holiday centres. It now owns 34 Grosvenor casinos, the Mecca Bingo chain and more than 100 Hard Rock Cafes in 38 countries.\n",
         "business"
        ],
        [
         "21",
         "Sluggish economy hits German jobs\n\nThe number of people out of work in Europe's largest economy has risen for the tenth straight month as growth remains stubbornly slow.\n\nGerman unemployment rose 7,000 in November to 4.464 million people, or 10.8% of the workforce. The seasonally adjusted rise showed a smaller rise than expected, as government measures to encourage job creation began to take effect. But officials said stagnant growth was still stifling the job market. \"There are clear signs of a revival in domestic demand,\" said Frank-Juergen Weise, head of the Federal Labour Agency, in a statement. \"But growth of 0.1%... in the third quarter is still insufficient to deliver positive momentum to the labour market.\" High oil prices and the soaring euro - which damages the competitiveness of exporters - were also having a negative effect, he said. The brunt of the unemployment is still being felt in the eastern part of Germany, where the rate is 18.8%.\n\nWith unemployment stuck above 4 million for years, the government of Chancellor Gerhard Schroeder has put job creation at the top of the agenda. A controversial package of measures to shake up incentives to get back to work, paid for by cutting some cherished benefits, has sparked anger among some German workers. Strikes in a number of industries, notably among the country's iconic carmakers, have demonstrated the displeasure - as well as fears about further job losses as outsourcing takes hold. Among the new initiatives are the so-called \"one-euro jobs\" which top up unemployment benefit. The scheme's formal launch is January, but hirings for these positions are already taking place and affecting the unemployment statistics, economists said. \"The deterioration of the labour market does not come as a surprise,\" said Isabelle Kronawitter at Hypovereinsbank. \"Job creation measures probably prevented a stronger increase in the seasonally adjusted numbers.\"\n",
         "business"
        ],
        [
         "22",
         "Mixed signals from French economy\n\nThe French economy picked up speed at the end of 2004, official figures show - but still looks set to have fallen short of the government's hopes.\n\nAccording to state statistics body INSEE, growth for the three months to December was a seasonally-adjusted 0.7-0.8%, ahead of the 0.6% forecast. If confirmed, that would be the best quarterly showing since early 2002. It leaves GDP up 2.3% for the full year, but short of the 2.5% which the French government had predicted.\n\nDespite the apparent shortfall in annual economic growth, the good quarterly figures - a so-called \"flash estimate\" - mark a continuing trend of improving indicators for the health of the French economy. The government is reiterating a 2.5% target for 2005, while the European Central Bank is making positive noises for the 12-nation eurozone as a whole. Also on Friday, France's industrial output for December was released, showing 0.7% growth. \"The numbers are good,\" said David Naude, economist at Deutsche Bank. \"They send a positive signal of a rebound in output... and open the way for a continuation in that trend into the New Year.\" Service sector activity improved in January, hitting a seven-month high. But unemployment remains high at about 10%.\n",
         "business"
        ],
        [
         "23",
         "US trade gap hits record in 2004\n\nThe gap between US exports and imports hit an all-time high of $671.7bn (Â£484bn) in 2004, latest figures show.\n\nThe Commerce Department said the trade deficit for all of last year was 24.4% above the previous record - 2003's imbalance of $496.5bn. The deficit with China, up 30.5% at $162bn, was the largest ever recorded with a single country. However, on a monthly basis the US trade gap narrowed by 4.9% in December to Â£56.4bn. The US consumer's appetite for all things from oil to imported cars, and even wine and cheese, reached record levels last year and the figures are likely to spark fresh criticism of President Bush's economic policies.\n\nDemocrats claim the administration has not done enough to clamp down on unfair foreign trade practices. For example, they believe China's currency policy - which US manufacturers claim has undervalued the yuan by as much as 40% - has given China's rapidly expanding economy an unfair advantage against US competitors.\n\nMeanwhile, the Bush administration argues that the US deficit reflects the fact the America is growing at faster rate than the rest of the world, spurring on more demand for imported goods. Some economists say this may allow an upward revision of US economic growth in the fourth quarter. But others point out that the deficit has reached such astronomical proportions that foreigners many choose not to hold as many dollar-denominated assets, which may in turn harm growth. For all of 2004, US exports rose 12.3% to $1.15 trillion, but imports rose even faster by 16.3% to a new record of $1.76 trillion. Foreign oil exports surged by 35.7% to a record $180.7bn, reflecting the rally in global oil prices and increasing domestic demand. Imports were not affected by the dollar's weakness last year. \"We expect the deficit to continue to widen in 2005 even if the dollar gets back to its downward trend,\" said economist Marie-Pierre Ripert at IXIS.\n",
         "business"
        ],
        [
         "24",
         "Yukos loses US bankruptcy battle\n\nA judge has dismissed an attempt by Russian oil giant Yukos to gain bankruptcy protection in the US.\n\nYukos filed for Chapter 11 protection in Houston in an unsuccessful attempt to halt the auction of its Yugansk division by the Russian authorities. The court ruling is a blow to efforts to get damages for the sale of Yugansk, which Yukos claims was illegally sold. Separately, former Yukos boss Mikhail Khodorkovsky began testimony on Friday in his trial for fraud and tax evasion.\n\nMr Khodorkovsky - who has been in jail for more than a year - pleaded not guilty to the charges brought against him and denied involvement in any criminal activities. \"I pride myself on heading for 15 years a number of successful companies and helping other enterprises rise from their knees,\" he told a Russian court.\n\nYugansk was auctioned to help pay off $27.5bn (Â£14.5bn) in unpaid taxes. It was bought for $9.4bn by a previously-unknown group, which was in turn bought up almost immediately by state-controlled oil company Rosneft.\n\nTexas Judge Letitia Clark said Yukos did not have enough of a US presence to establish US jurisdiction. \"The vast majority of the business and financial activities of Yukos continue to occur in Russia,\" Judge Clark said in her ruling. \"Such activities require the continued participation of the Russian government.\" Yukos had argued that a US court was entitled to declare it bankrupt before its Yugansk unit was sold, since it has local bank accounts and its chief finance officer Bruce Misamore lives in Houston. Yukos claimed it sought help in the US because other forums - Russian courts and the European Court of Human Rights - were either unfriendly or offered less protection. Russia had indicated it would in any case not abide by the rulings of the US courts.\n\nIn her ruling, the judge acknowledged that \"it appears likely that agencies of the Russian government have acted in a manner that would be considered confiscatory under United States law\". But she said her role was simply to decide on jurisdiction. The US court's jurisdiction had been challenged by Deutsche Bank and Gazpromneft, a former unit of Russian gas monopoly Gazprom which is due to merge with Rosneft. Analysts said the ability of Gazprom and Rosneft to trade freely overseas had been stifled while the ownership of Yugansk remained unclear.\n\nYukos said it would consider its options in light of the ruling. However, it claimed that the court had backed its argument in four out of five key issues. \"We believe the merits of our case are strong and simple,\" said chief executive Steven Theede. \"Our assets were illegally seized. We want them back or damages paid.\"\n",
         "business"
        ],
        [
         "25",
         "Safety alert as GM recalls cars\n\nThe world's biggest carmaker General Motors (GM) is recalling nearly 200,000 vehicles in the US on safety grounds, according to federal regulators.\n\nThe National Highway Traffic Safety Administration (NHTSA) said the largest recall involves 155,465 pickups, vans and sports utility vehicles (SUVs). This is because of possible malfunctions with the braking systems. The affected vehicles in the product recall are from the 2004 and 2005 model years, GM said. Those vehicles with potential faults are the Chevrolet Avalanche, Express, Kodiak, Silverade and Suburban; the GMC Savana, Sierra and Yukon.\n\nThe NHTSA said a pressure accumulator in the braking system could crack during normal driving and fragments could injure people if the hood was open. This could allow hydraulic fluid to leak, which could make it harder to brake or steer and could cause a crash, it warned. GM is also recalling 19,924 Cadillac XLR coupes, SRX SUVs and Pontiac Grand Prix sedans from the 2004 model year. This is because the accelerator pedal may not work properly in extremely cold temperatures, requiring more braking. In addition, the car giant is calling back 17,815 Buick Raniers, Chevrolet Trailblazers, GMC Envoys and Isuzu Ascenders from the 2005 model years because the windshield is not properly fitted and could fall out in a crash. However, GM stressed that it did not know of any injuries related to the problems. News of the recall follows an announcement last month that GM expects earnings this year be lower than in 2004. The world's biggest car maker is grappling with losses in its European business, weak US sales and now a product recall. In January, GM said higher healthcare costs in North America, and lower profits at its financial services subsidiary would hurt its performance in 2005.\n",
         "business"
        ],
        [
         "26",
         "Steel firm 'to cut' 45,000 jobs\n\nMittal Steel, one of the world's largest steel producers, could cut up to 45,000 jobs over the next five years, its chief executive has said.\n\nThe Netherlands-based company is due to complete its $4.5bn acquisition of US firm ISG next month, making it one of the largest global firms of its kind. However, Lakshmi Mittal has told investors the combined company will have to shed thousands of jobs. The Indian-born magnate did not say where the job losses would fall.\n\nMr Mittal told US investors that once the acquisition of International Steel Group was completed, the company would aim to reduce its workforce by between 7,000 and 8,000 annually. This could see its workforce trimmed from 155,000 to 110,000 staff by 2010. \"We are investing in modernisation so employees will go down,\" Mr Mittal told the conference in Chicago.\n\nMittal Steel was formed last year when Mr Mittal's LNM Holdings merged with Dutch firm Ispat. A combination of Mittal Steel and ISG would have annual sales of $32bn (Â£16.7bn; 24.1bn euros) and a production capacity of 70 million tonnes.\n\nA Mittal Steel spokeman said that no decisions on job cuts have been made yet. \"We are trying to create a sustainable steel industry and if we want to do that, we have to invest in new technology,\" a spokesman said. Mittal Steel has operations in 14 countries. Many of its businesses - particularly those in eastern Europe - were previously state owned and have huge workforces. It employs 50,000 staff in Kazakhstan alone, and has large operations in Romania, the Czech Republic, South Africa and the United States.\n",
         "business"
        ],
        [
         "27",
         "Strong demand triggers oil rally\n\nCrude oil prices surged back above the $47 a barrel mark on Thursday after an energy market watchdog raised its forecasts for global demand.\n\nThe International Energy Agency (IEA) warned demand for Opec's crude in the first quarter would outstrip supply. The IEA raised its estimate of 2005 oil demand growth by 80,000 barrels a day to 84 million barrels a day. US light crude rose $1.64 to $47.10, while Brent crude in London gained $1.32 to $44.45.\n\nThe Paris-based IEA watchdog, which advises industrialized nations on energy policy, said the upward revision was due to stronger demand from China and other Asian countries. The fresh rally in crude prices followed gains on Wednesday which were triggered by large falls in US crude supplies following a cold spell in North America in January. The US Department of Energy reported that crude stockpiles had fallen 1m barrels to 294.3m. On top of that, ongoing problems for beleaguered Russian oil giant Yukos have also prompted the IEA to revise its output estimates from Russia - a major non-Opec supplier. \"I think that prices are now beginning to set a new range and it looks like the $40 to $50 level,\" said energy analyst Orin Middleton of Barclays Capital.\n",
         "business"
        ],
        [
         "28",
         "UK firm faces Venezuelan land row\n\nVenezuelan authorities have said they will seize land owned by a British company as part of President Chavez's agrarian reform programme.\n\nOfficials in Cojedes state said on Friday that farmland owned by a subsidiary of the Vestey Group would be taken and used to settle poor farmers. The government is cracking down on so-called latifundios, or large rural estates, which it says are lying idle. The Vestey Group said it had not been informed of any planned seizure.\n\nThe firm, whose Agroflora subsidiary operates 13 farms in Venezuela, insisted that it had complied fully with Venezuelan law. Prosecutors in the south of the country have targeted Hato El Charcote, a beef cattle ranch owned by Agroflora. According to Reuters, they plan to seize 12,900 acres (5,200 hectares) from the 32,000 acre (13,000 hectare) farm.\n\nOfficials claim that Agroflora does not possess valid documents proving its ownership of the land in question. They also allege that areas of the ranch are not being used for any form of active production. \"The legal boundaries did not match up with the actual boundaries and there is surplus,\" state prosecutor Alexis Ortiz told Reuters. \"As a consequence the government has taken action.\"\n\nControversial reforms passed in 2001 give the government the right to take control of private property if it is declared idle or ownership cannot be traced back to the 19th Century.\n\nCritics say the powers - which President Chavez argues are needed to help the country's poorest citizens and develop the Venezuelan economy - trample all over private property rights. The Vestey Group said it had owned the land since 1920 and would co-operate fully with the authorities. But a spokesman added: \"Agroflora is absolutely confident that what it has submitted will demonstrate the legality of its title to the land.\" The company pointed out that the farm, which employs 300 workers, provides meat solely for the Venezuelan market.\n\nLast month, the government said it had identified more than 500 idle farms and had yet to consider the status of a further 40,000. The authorities said landowners whose titles were in order and whose farms were productive had \"nothing to fear\". Under President Chavez, the Venezuelan government has steadily expanded the state's involvement in the country's economy. It recently said all mining contracts involving foreign firms would be examined to ensure they provided sufficient economic benefits to the state.\n",
         "business"
        ],
        [
         "29",
         "Soaring oil 'hits world economy'\n\nThe soaring cost of oil has hit global economic growth, although world's major economies should weather the storm of price rises, according to the OECD.\n\nIn its latest bi-annual report, the OECD cut its growth predictions for the world's main industrialised regions. US growth would reach 4.4% in 2004, but fall to 3.3% next year from a previous estimate of 3.7%, the OECD said. However, the Paris-based economics think tank said it believed the global economy could still regain momentum.\n\nForecasts for Japanese growth were also scaled back to 4.0% from 4.4% this year and 2.1% from 2.8% in 2005. But the outlook was worst for the 12-member eurozone bloc, with already sluggish growth forecasts slipping to 1.8% from 2.0% this year and 1.9% from 2.4% in 2005, the OECD said. Overall, the report forecast total growth of 3.6% in 2004 for the 30 member countries of the OECD, slipping to 2.9% next year before recovering to 3.1% in 2006. \"There are nonetheless good reasons to believe that despite recent oil price turbulence the world economy will regain momentum in a not-too-distant future,\" said Jean-Philippe Cotis, the OECD's chief economist. The price of crude is about 50% higher than it was at the start of 2004, but down on the record high of $55.67 set in late October.\n\nA dip in oil prices and improving jobs prospects would improve consumer confidence and spending, the OECD said. \"The oil shock is not enormous by historical standards - we have seen worse in the seventies. If the oil price does not rise any further, then we think the shock can be absorbed within the next few quarters,\" Vincent Koen, a senior economist with the OECD, told the BBC's World Business Report. \"The recovery that was underway, and has been interrupted a bit by the oil shock this year, would then regain momentum in the course of 2005.\" China's booming economy and a \"spectacular comeback\" in Japan - albeit one that has faltered in recent months - would help world economic recovery, the OECD said. \"Supported by strong balance sheets and high profits, the recovery of business investment should continue in North America and start in earnest in Europe,\" it added. However, the report warned: \"It remains to be seen whether continental Europe will play a strong supportive role through a marked upswing of final domestic demand.\" The OECD highlighted current depressed household expenditure in Germany and the eurozone's over-reliance on export-led growth.\n",
         "business"
        ],
        [
         "30",
         "Irish markets reach all-time high\n\nIrish shares have risen to a record high, with investors persuaded to buy into the market by low inflation and strong growth forecasts.\n\nThe ISEQ index of leading shares closed up 23 points to 6661.89 on Thursday, fuelled by strong growth in banking and financial stocks. A fall in the rate of inflation to 2.3% in January gave a fresh boost to shares which have advanced 4% this month. The economy is set for strong growth in 2005 while interest rates remain low.\n\nSeveral of Ireland's biggest companies saw their market value hit recent highs on Thursday. Allied Irish Banks, Ireland's biggest company by capitalisation, touched a five year peak while Bank of Ireland shares rose to their highest level since August 2002.\n\nTelecoms firm Eircom, which recently revealed that it would re-enter the Irish mobile phone market, hit a yearly high. Analysts said that economic conditions were benign and Irish shares were still trading at a discount to other European markets. \"Ireland ticks all the boxes as far as international investors are concerned,\" Roy Asher, chief investment officer of Hibernian Investment Managers, told Reuters. \"Buoyant economic conditions are set to continue in Ireland over the next few years and Irish equities continue to offer quality growth at a reasonable valuation.\"\n\nBernard McAlinden, head of equity research at NCB Stockbrokers, said equities represented good value compared to other investments. \"It is still looking good,\" he told Reuters. \"We have seen good economic data on Ireland which benefits the financial stocks.\" Ireland's economic 'miracle' is enjoying a second wind, with 5% growth forecast for 2005 and 2006. The economy cooled markedly between 2001 and 2003 after enjoying spectacular growth of more than 10% in 2000. However, it has bounced back strongly with growth of just under 5% expected in 2004.\n",
         "business"
        ],
        [
         "31",
         "Japanese banking battle at an end\n\nJapan's Sumitomo Mitsui Financial has withdrawn its takeover offer for rival bank UFJ Holdings, enabling the latter to merge with Mitsubishi Tokyo.\n\nSumitomo bosses told counterparts at UFJ of its decision on Friday, clearing the way for it to conclude a 3 trillion yen ($29bn) deal with Mitsubishi. The deal would create the world's biggest bank with assets of about 189 trillion yen ($1.8 trillion). Sumitomo's exit ends the most high profile fight in Japanese bank history.\n\nUFJ Holdings, Japan's fourth-largest bank, has been at the centre of a fierce bid battle over the last year. Sumitomo, Japan's third-largest bank, tabled a higher offer for UFJ than its rival, valuing the company at $35bn.\n\nHowever, UFJ's management was known to prefer the offer from Mitsubishi Tokyo Financial Group (MTFG), Japan's second-largest bank. Concerns were also raised about Sumitomo's ability to absorb UFJ and the former has now admitted defeat. \"We believe the market and most investors accept a UFJ-MTFG merger,\" Sumitomo said in a statement. \"Given the ongoing integration of UFJ and MTFG operations, persisting with our proposal may not be in the best interests of our shareholders or UFJ's.\"\n\nMitsubishi's takeover of UFJ - which will be Japan's largest-ever takeover deal - will still have to be approved by shareholders of the two firms. However, this is expected to be a formality. Sumitomo may now turn its attention to deepening its ties with Daiwa Securities, another Japanese financial firm. The two are set to merge their venture capital operations and there has been speculation that this could lead to a full-blown merger. Japanese banks are increasingly seeking alliances to boost profits.\n",
         "business"
        ],
        [
         "32",
         "Rich grab half Colombia poor fund\n\nHalf of the money put aside by the Colombian government to help the country's poor is benefiting people who do not need it, a study has found.\n\nA total of 24.2 trillion pesos ($10.2bn; Â£5.5bn) is earmarked for subsidies for the poor, the government department for planning said. But it also found 12.1 trillion pesos was going to the richest part of the population, rather than to those in need. Sound distribution of the cash could cut poverty levels to 36% from 53%, the government believes. \"Resources are more than enough to reduce poverty and there is no need for more tax reforms but a better distribution,\" deputy planning director Jose Leibovich said.\n\nColombia has a population of about 44 million and half lives below poverty line. However, some large properties are paying less in tax as they are situated inside poor areas, which benefit from cheaper utilities such as electricity and water, government research found. Government expenditure in areas such as pensions, public services, education, property and health should be revised, Mr Leibovich said. He added that the government is now examining the report, but warned there would be no easy solution to the problem. With a good distribution of such subsidies and economic growth of just 2%, by 2019 poverty could fall as low as 15.3%, he said.\n",
         "business"
        ],
        [
         "33",
         "Rover deal 'may cost 2,000 jobs'\n\nSome 2,000 jobs at MG Rover's Midlands plant may be cut if investment in the firm by a Chinese car maker goes ahead, the Financial Times has reported.\n\nShanghai Automotive Industry Corp plans to shift production of the Rover 25 to China and export it to the UK, sources close to the negotiations tell the FT. But Rover told BBC News that reports of job cuts were \"speculation\". A tie-up, seen as Rover's last chance to save its Longbridge plant, has been pushed by UK Chancellor Gordon Brown. Rover confirmed the tie-up would take place \"not very far away from this time\".\n\nRover bosses have said they are \"confident\" the Â£1bn ($1.9bn) investment deal would be signed in March or early April.\n\nTransport & General Worker's Union general secretary Tony Woodley repeated his view on Friday that all mergers led to some job cuts. He said investment in new models was needed to ensure the future of the Birmingham plant. \"This is a very crucial and delicate time and our efforts are targeted to securing new models for the company which will mean jobs for our people,\" he said. SAIC says none of its money will be paid to the four owners of Rover, who have been accused by unions of awarding themselves exorbitant salaries, the FT reports. \"SAIC is extremely concerned to ensure that its money is used to invest in the business rather than be distributed to the shareholders,\" the newspaper quotes a source close to the Chinese firm. Meanwhile, according to Chinese state press reports, small state-owned carmaker Nanjing Auto is in negotiations with Rover and SAIC to take a 20% stake in the joint venture. SAIC was unavailable for comment on the job cuts when contacted by BBC News. Rover and SAIC signed a technology-sharing agreement in August.\n",
         "business"
        ],
        [
         "34",
         "Ad firm WPP's profits surge 15%\n\nUK advertising giant WPP has posted larger-than-expected annual profits and predicted that it will outperform the market in 2005.\n\nPre-tax profits rose 15% from a year ago to reach Â£546m ($1.04bn), ahead of average analysts' forecasts of Â£532m. Revenues were Â£4.3bn while the firm's operating margins were 14.1%, which it said could reach 14.8% by 2006. During the year WPP bought US rival Grey Global, creating a giant big enough to rival sector leader Omnicom.\n\nChief Executive Martin Sorrell on Friday told Reuters news agency that WPP had submitted a proposal for United Business Media's NOP World market research unit. Analysts say the unit sell could sell for up to Â£350m. WPP in recent years has also bought firms such as Ogilvy & Mather and Cordiant Communications. It also includes the firms Young & Rubicam and J Walter Thompson. Events such as the Olympics helped boost WPP's profits in 2004. The company said the US Congressional elections and the FIFA World Cup are likely to present advertising opportunities in the near future. The long-term outlook looks \"very favourable\" because of media and technology developments and the strength of the US economy, WPP said.\n",
         "business"
        ],
        [
         "35",
         "US gives foreign firms extra time\n\nForeign firms have been given an extra year to meet tough new corporate governance regulations imposed by the US stock market watchdog.\n\nThe Securities and Exchange Commission has extended the deadline to get in line with the rules until 15 July 2006. Many foreign firms had protested that the SEC was imposing an unfair burden. The new rules are the result of the Sarbanes-Oxley Act, part of the US clean-up after corporate scandals such as Enron and Worldcom. Section 404 of the Sox Act, as the legislation is nicknamed, calls for all firms to certify that their financial reporting is in line with US rules. Big US firms already have to meet the requirements, but smaller ones and foreign-based firms which list their shares on US stock markets originally had until the middle of this year.\n\nOver the past few months, delegations of European and other business leaders have been heading to the SEC's Washington DC headquarters to protest. They say the burden is too expensive and the timescale too short and some, particularly the UK's CBI, warned that companies would choose to let their US listings drop rather than get in line with section 404. The latest delegation from the CBI met SEC officials on Wednesday, just before the decision to relax the deadline was announced. \"I think this signifies a change of heart at the SEC,\" CBI director-general Sir Digby Jones told the BBC's Today programme. \"They have been listening to us and to many overseas companies, who have reminded America what globalisation really means: that they can't make these rules in isolation.\" The SEC said it had taken into consideration the fact that foreign companies were already working to meet more onerous financial reporting rules in their home countries. The European Union, in particular, was imposing new international financial reporting standards in 2005, it noted. \"I don't underestimate the effort (compliance) will require... but this extension will provide additional time for those issuers to take a good hard look at their internal controls,\" said Donald Nicolaisen, the SEC's chief accountant.\n",
         "business"
        ],
        [
         "36",
         "Japanese mogul arrested for fraud\n\nOne of Japan's best-known businessmen was arrested on Thursday on charges of falsifying shareholder information and selling shares based on the false data.\n\nYoshiaki Tsutsumi was once ranked as the world's richest man and ran a business spanning hotels, railways, construction and a baseball team. His is the latest in a series of arrests of top executives in Japan over business scandals. He was taken away in a van outside one of his Prince hotels in Tokyo.\n\nThere was a time when Mr Tsutsumi seemed untouchable. Inheriting a large property business from his father in the 1960s, he became one of Japan's most powerful industrialists, with close connections to many of the country's leading politicians. He used his wealth and influence to bring the Winter Olympic Games to Nagano in 1998. But last year, he was forced to resign from all the posts he held in his business empire, after being accused of falsifying the share-ownership structure of Seibu Railways, one of his companies. Under Japanese stock market rules, no listed company can be more than 80% owned by its 10 largest shareholders. Now Mr Tsutsumi faces criminal charges and the possibility of a prison sentence because he made it look as if the 10 biggest shareholders owned less than this amount. Seibu Railways has been delisted from the stock exchange, its share value has plunged and it is the target of a takeover bid.\n\nMr Tsutsumi's fall from grace follows the arrests of several other top executives in Japan as the authorities try to curb the murky business practices which were once widespread in Japanese companies. His determination to stay at the top at all costs may have had its roots in his childhood. The illegitimate third son of a rich father, who made his money buying up property as Japan rebuilt after World War II, he has described the demands his father made. \"I felt enormous pressure when I dined with him and it was nothing but pain,\" Tsutsumi told a weekly magazine in 1987. \"He scolded me for pouring too much soy sauce or told me fruit was not for children. He didn't let me use the silk futon, saying it's a luxury.\" There have been corporate governance issues at some other Japanese companies too. Last year, twelve managers from Mitsubishi Motors were charged with covering up safety defects in their vehicles and three executives from Japan's troubled UFJ bank were charged with concealing the extent of the bank's bad loans.\n",
         "business"
        ],
        [
         "37",
         "Deutsche Telekom sees mobile gain\n\nGerman telecoms firm Deutsche Telekom saw strong fourth quarter profits on the back of upbeat US mobile earnings and better-than-expected asset sales.\n\nNet profit came in at 1.4bn euros (Â£960m; $1.85bn), a dramatic change from the loss of 364m euros in 2003. Sales rose 2.8% to 14.96bn euros. Sales of stakes in firms including Russia's OAO Mobile Telesystems raised 1.17bn euros. This was more than expected and helped to bring debt down to 35.8bn euros.\n\nA year ago, debt was more than 11bn euros higher. T-Mobile USA, the company's American mobile business, made a strong contribution to profits. \"It's a seminal achievement that they cut debt so low. That gives them some head room to invest in growth now,\" said Hannes Wittig, telecoms analyst at Dresdner Kleinwort Wasserstein. The company also said it would resume paying a dividend, after two years in which it focused on cutting debt.\n",
         "business"
        ],
        [
         "38",
         "Chinese wine tempts Italy's Illva\n\nItaly's Illva Saronno has agreed to buy 33% of Changyu, the largest wine maker in China.\n\nChangyu said in a statement to the Shenzhen stock exchange that Illva will pay 481.42m yuan ($58.16m; Â£30.7m), once the government approves the deal. The Italian liqueur maker will acquire the shares from the Yantai State Asset Management Bureau. Chinese wine sales are growing, the US Agriculture Department said, with wine sales in 2003 up 25% at 61.1bn yuan.\n\nChina is encouraging state-owned companies to sell shares to foreign investors. Anheuser-Busch, Heineken and Scottish & Newcastle have all invested in the Chinese beer industry in the last two years and now Illva Saronno is betting on the Chinese wine market. Yantai State Asset Management Bureau - a government agency in the north-eastern city of Yantai - owns 55% of Changyu. The state agency will also sell 10% of its stake in Changyu to another overseas company, although it didn't say who. The remaining 12% will be retained by the Yantai city government. The consumption of wine in China is still low, at just 0.22 litres per capita, said the US Agriculture Department. This compares with 59 litres in France, 12 litres in the US and three litres in Japan.\n",
         "business"
        ],
        [
         "39",
         "Umbro profits lifted by Euro 2004\n\nUK sportswear firm Umbro has posted a 222% rise in annual profit after sales of replica England football kits were boosted by the Euro 2004 tournament.\n\nPre-tax profit for 2004 was Â£15.4m ($29.4m). Umbro, which recently lost sponsorship deals with Chelsea and Celtic, said on Thursday it had signed a new four-year agreement with Scottish club Rangers. It hopes 2005 sales will benefit from the launch of a new England replica shirt ahead of the 2006 World Cup. In January, Umbro announced its sponsorship agreement with Chelsea, which gave Umbro the lucrative right to make replica shirts, would end in 2006, five years earlier than expected. The firm, which is to receive a payment from Chelsea of Â£24.5m, said it is \"appraising a number of additional investment opportunities as a result of this compensation\" . Chief executive Peter McGuigan said the firm plans to grow sales both in the UK and internationally.\n\nThe firm, reporting its first annual results since listing on the London Stock Exchange in June, said the UK market had seen sales growth of 8% last year. It said the launch of its Evolution X fashion range had boosted sales. Umbro supplies more than 150 teams across the world including the national sides of Ireland, Sweden and Norway. Shares in Umbro were up 1.76% at 115.5 pence in morning trade.\n",
         "business"
        ],
        [
         "40",
         "Fed chief warning on US deficit\n\nFederal Reserve chairman Alan Greenspan has warned that allowing huge US budget deficits to continue could have \"severe\" consequences.\n\nSpeaking to the House Budget Committee he urged Congress to take action to cut the deficit, such as increasing taxes. While the US economy is growing at a \"reasonably good pace\" he warned that budget concerns were clouding the economic outlook for the US. Pension and healthcare costs posed the greatest risks to the economy, he said.\n\nThe government program faces severe financial strains in coming decades as the massive baby-boom generation retires. \"I fear that we may have already committed more physical resources to the baby-boom generation in its retirement years than our economy has the capacity to deliver. If existing promises need to be changed, those changes should be made sooner rather than later,\" Mr Greenspan said. He also warned that unless the nation sees unprecedented rises in productivity \"retirement and health programmes would need \"significant\" changes. He called on Congress to cut promised benefits for retirees, as the promised benefits for the soon-to-retire baby boom generation were much larger than the government could afford.\n\nMeanwhile any move to narrow the deficit gap by raising taxes could pose a significant risk to the economy by dampening growth and spending, he added. He also urged Congress to reinstate lapsed rules that require tax cuts and spending to be offset elsewhere in the budget in an effort to prevent the US heading further into the red. Despite the dire warnings, Mr Greenspan did offer some good news for the short term. As US growth gathers steam and incomes rise that should lead to a narrowing of the deficit. Recent increases in defence and homeland security spending were also not expected to continue indefinitely, which should cut some costs. Since President George W Bush came to office the federal budget has swung from a record surplus to a record deficit of $412bn last year.\n",
         "business"
        ],
        [
         "41",
         "UK Coal plunges into deeper loss\n\nShares in UK Coal have fallen after the mining group reported losses had deepened to Â£51.6m in 2004 from Â£1.2m.\n\nThe UK's biggest coal producer blamed geological problems, industrial action and \"operating flaws\" at its deep mines for its worsening fortunes. The South Yorkshire company, led by new chief executive Gerry Spindler, said it hoped to return to profit in 2006. In early trade on Thursday, its shares were down 10% at 119 pence. UK Coal said it was making \"significant progress\" in shaking up the business. It had introduced new wage structures, a new daily maintenance regime for machinery at its mines and methods to continue mining in adverse conditions. The company said these actions should \"significantly uplift earnings\". It expected 2005 to be a \"transitional year\" and to return to profitability in 2006.\n\nThe recent rise in coal prices has failed to benefit the company as most of its output had already been sold, it said. Total production costs were Â£1.30 per gigajoule, UK Coal said, but the average selling price was just Â£1.18 per gigajoule. \"We have a long journey ahead to fix these issues. We continue to make progress and great strides have already been made,\" said Mr Spindler. UK Coal operates 15 deep and surface mines across Nottinghamshire, Derbyshire, Leicestershire, Yorkshire, the West Midlands, Northumberland and Durham.\n",
         "business"
        ],
        [
         "42",
         "Saudi ministry to employ women\n\nWomen will be employed in Saudi Arabia's foreign ministry for the first time this year, Foreign Minister Prince Saud Al-Faisal has been reported as saying.\n\nThe move comes as the conservative country inches open the door to working women. Last year, Crown Prince Abdullah, the de-facto ruler, told government departments to put plans in place for employing women. But progress has been slow, reports from the country say.\n\nEarlier this week, the local Arab News said Labour Minister Ghazi al-Gosaibi had \"caused uproar\" when he said his ministry was having difficulty hiring women because they demanded segregated offices. The newspaper said many Saudi women found his explanation \"a pitiful excuse for not employing women\". Women now make up more than half of all graduates from Saudi universities but only 5% of the workforce. \"Our educational reforms have created a new generation of highly-educated and professionally trained Saudi women who are acquiring their rightful position in Saudi society,\" Arab News quoted Prince Saud as saying. \"I am proud to mention here that this year we shall have women working in the Ministry of Foreign Affairs for the first time.\"\n",
         "business"
        ],
        [
         "43",
         "Japan economy slides to recession\n\nThe Japanese economy has officially gone back into recession for the fourth time in a decade.\n\nGross domestic product fell by 0.1% in the last three months of 2004. The fall reflects weak exports and a slowdown in consumer spending, and follows similar falls in GDP in the two previous quarters. The Tokyo stock market fell after the figures were announced, but rose again on a widespread perception that the economy will recover later this year. On Wednesday, the government revised growth figures from earlier in 2004 which, when taking into account performance in the most recent period, effectively tips Japan into recession.\n\nA previous estimate of 0.1% growth between July and September was downgraded to a 0.3% decline. A recession is commonly defined as two consecutive quarters of negative growth, although the Japanese government takes other factors into account when judging the status of its economy.\n\nFigures released by the government's Cabinet Office showed that GDP, on an annualised basis, fell 0.5% in the last three months of 2004. However, politicians remain upbeat about prospects for an economic boost later in the year. \"The economy has some soft patches but if you look at the bigger picture, it is in a recovery stage,\" said Economic and Fiscal Policy Minister Heizo Takenaka. Gross domestic product measures the overall value of goods and services produced in a country. \"The economy must be assessed comprehensively and we cannot look at GDP alone,\" Mr Takenaka stressed.\n\nMinisters pointed to the fact that consumer spending had been depressed by one-off factors such as the unseasonably mild winter. Analysts said the figures were disappointing but argued that Japan's largest companies had been recording healthy profits and capital spending was on the rise. Japan's economy grew 2.6% overall last year - fuelled by a strong performance in the first few months - and is forecast to see growth of 2.1% in 2005. However, the economy's fragile recovery remains dependent on an upturn in consumer spending, a fall in the value of the yen and an improvement in global economies. \"The results came in at the lower end of expectations but we shouldn't be too pessimistic about the current state and the outlook for the economy,\" said Naoki Iizuka, senior economist at the Dai-ichi Life Research Institute. Japan's economy has seen stretches of moderate growth over the past decade but has periodically slipped back into recession.\n",
         "business"
        ],
        [
         "44",
         "US crude prices surge above $53\n\nUS crude prices have soared to fresh four-month highs above $53 in the US as refinery problems propelled petrol prices to an all-time high.\n\nUS light sweet crude futures jumped to $53.09 a barrel in New York before closing at $53.03. The gains tracked a surge in US gasoline futures to a record high of $1.4850 a gallon. The jump followed a fire at Western Refining Company's refinery in Texas, which shut down petrol production. A spokesman for the group was unable to say when the production unit would be back up and running. \"This market simply wants to go up,\" Citigroup Global Markets analyst Kyle Cooper told Reuters news agency. Ed Silliere, analyst at Energy Merchant, added: \"Gasoline is up because of the refinery issues in Texas, which means there will be a scramble for product in the (US) Gulf Coast.\"\n\nElsewhere, a refinery in Houston was closed due to mechanical problems, while on Tuesday production at BP's Texas City refinery was taken down for a short time. In the approach to Spring, the market becomes much more sensitive to problems with petrol production as dealers anticipate rising demand for fuel ahead of the holiday season. The rise in prices came despite a US government report that showed domestic supplies of fuel oil and fuel were rising. Meanwhile, oil production cartel Opec's recent announcement that it was now unlikely to cut production levels has also failed to calm fears on the market. Oil prices are roughly 45% higher than a year ago and have risen sharply in recent weeks due to a combination of colder weather, the declining value of the dollar and fears that Opec could rein in production to head off a seasonal drop in demand. Instability in Iraq and underlying fears about terrorism have also played a part in the rally.\n",
         "business"
        ],
        [
         "45",
         "Industrial output falls in Japan\n\nJapanese industrial output fell in October while unemployment rose, casting further doubt on the strength of the country's economic recovery.\n\nProduction dropped 1.6% in October, reflecting a decline in exports, while unemployment levels edged up 0.1% to 4.7%, slightly higher than forecast. The economy has grown for six quarters but growth slowed dramatically in the last quarter amid weaker global demand. Japan's government remains optimistic due to strong domestic demand.\n\nAnalysts had been forecasting a 0.1% rise in month on month industrial output.\n\nAccording to figures from the Ministry of Economy, Trade and Industry (METI), the decline was led by a fall in demand for electronic parts for mobile phones and digital televisions. Although inventories fell 0.7% month on month, they were 36% higher than a year ago. \"It's a sign that the economy's adjustment phase is stronger than expected,\" said Takashi Yamanaka, an economist with UFJ Bank. Japan downgraded its overall economic assessment earlier this month for the first time in a year.\n\nGrowth slowed to 0.3% in the quarter ending September 30, down from 6.3% in the first quarter of 2004. Experts believe the economy -which stagnated for most of the 1990s -may be entering a softer patch on the back of rising oil prices and the falling dollar. Japanese government officials played down the latest data, arguing that domestic consumer demand was still resilient. \"The outlook for November is positive so I don't think one can say that conditions have worsened just because of the fall in October,\" said a METI official. Despite the rise in unemployment, jobless figures are still some way below historical highs of recent years. The comparatively weak economic date preyed on shares with the Nikkei down 1% in afternoon trade.\n",
         "business"
        ],
        [
         "46",
         "Ryanair in $4bn Boeing plane deal\n\nBudget airline Ryanair has placed an order for 70 Boeing 737-800 planes, in a deal valued at $4bn (Â£2.1bn) which should lead to 2,500 new Ryanair jobs.\n\nIt also has an option for a further 70 aircraft, a move which brings the Ryanair/Boeing order book up to 225 firm orders and options on 193 more. Ryanair said the new planes would help it to cut operating costs further. The carrier reported a drop in quarterly profit earlier this year after it was hit by higher fuel costs. However, when it reported the results, the airline was upbeat about prospects for 2005, despite tough competition in the budget airline market.\n\nRyanair chairman David Bonderman said that the 737-800 had \"significantly reduced our unit operating costs and allowed us to reduce air fares each year for the last five years\".\n\n\"With this new order and new pricing in place, Ryanair expects that unit operating costs (excluding fuel) will continue to fall each year for the next five years,\" he added. At the end of this year, Ryanair will have taken delivery of about 100 new planes, while the 70 new orders are due for delivery between 2008 and 2012. The airline said that when all these planes have been delivered, it will be able to carry more than 70 million passengers a year, making it Europe's largest airline. About 2,500 new jobs should be created in the next seven years, it added. The order can be seen as good news for Boeing, which in recent years has been overtaken by European plane maker Airbus as the world's biggest-selling plane maker.\n",
         "business"
        ],
        [
         "47",
         "Parmalat to return to stockmarket\n\nParmalat, the Italian dairy company which went bust after an accounting scandal, hopes to be back on the Italian stock exchange in July.\n\nThe firm gained protection from creditors in 2003 after revealing debts of 14bn euros ($18.34bn; Â£9.6bn). This was eight times higher than it had previously stated. In a statement issued on Wednesday night, Parmalat Finanziaria detailed administrators' latest plans for re-listing the shares of the group.\n\nAs part of the re-listing on the Italian stock exchange, creditors' debts are expected to be converted into shares through two new share issues amounting to more than 2bn euros. The company's creditors will be asked to vote on the plan later this year. The plan is likely to give creditors of Parmalat Finanziaria shares worth about 5.7% of the debts they are owed. This is lower than the 11.3% creditors previously hoped to receive. Creditors of Parmalat, the main operating company, are likely to see the percentage of debt they receive fall from 7.3% to 6.9%.\n\nSeveral former top Parmalat executives are under investigation for the fraud scandal. Lawmakers said on Wednesday night Enrico Bondi, the turnaround specialist appointed by the Italian government as Parmalat's chief executive, spoke positively about the company during a closed-door hearing of the Chamber of Deputies industry commission. \"Bondi supplied us with elements of positive results on the industrial positions and on the history of debt which will find a point of solution through the Parmalat group's quotation on the market in July,\" Italian news agency Apcom quoted several lawmakers as saying in a statement.\n",
         "business"
        ],
        [
         "48",
         "BMW cash to fuel Mini production\n\nLess than four years after the new Mini was launched, German car maker BMW has announced Â£100m of new investment.\n\nSome 200 new jobs are to be created at the Oxford factory, including modernised machinery and a new body shell production building. The result of the investment could be to raise output to more than 200,000 cars from 2007. The rise, from 189,000 last year, is a response to rapidly-rising demand and could help wipe out waiting lists. Before Wednesday's announcement, BMW had invested some Â£280m in Mini production.\n\nSince its launch during summer 2001, the new Mini has gone from strength to strength.\n\nLast year, almost one in six cars sold by the BMW group was a Mini. The company admits that the success of the brand came despite scepticism from many in the industry. \"Our decision to produce a new Mini was not received well right away,\" said Norbert Reithofer, a member of the BMW management board. Initially, BMW said it would produce 100,000 Mini models a year at its vast Cowley factory on the outskirts of Oxford, but the target was quickly reached, then raised, time and time again. Not everyone is convinced that the boom can continue. \"The risk is that after they've invested massively in the brand, demand tapers off like it did with the new VW Beetle,\" said Brad Wernle, from Automotive News Europe.\n\nThe price of the car has also gone up. When it was launched, the cheapest Mini cost just more than Â£10,000. These days, buyers will have to fork out almost Â£11,500 to own a new Mini One, or even more for the Cooper S which costs up to Â£17,730. The Mini Convertible, which was launched last spring, costs up to Â£15,690 for the top model, and there is even a waiting list. Second-hand Minis are not cheap either. A Mini One bought when the model was launched should still fetch at least Â£8,000 for the cheapest model, while a used Cooper S is likely to be priced from Â£12,556, according to the-car buying website Parker's. The consumers' association Which operates with slightly different numbers, yet it confirms that the Mini Cooper 1.6 depreciates slower than any other car, other than the Mercedes Benz C180 SE and the BMW 1 Series 116i SE.\n\nThe Cowley factory, which initially seemed far too large a production plant for just 100,000 Minis, is increasingly being put to good use.\n\nThere are plans to tear down old buildings and build new ones and there are rumours that a new paint shop could be included in the plans. BMW's Mini adventure has made good much of what went wrong during its stewardship of the UK car maker Rover which it sold for Â£10 five years ago to the Phoenix consortium. In 1999, when BMW still owned Rover, the Oxford factory was producing the award-winning Rover 75. During that year, 3,500 people produced 56,000 cars. Last year, in the same factory, almost four times as many vehicles were produced by just 4,500 Mini-workers. The Mini factory's current output is equally impressive when compared with the main Rover factory in Longbridge, which in 1999 produced 180,000 Rover cars. Last year, MG Rover, which employs more than 6,000 people, produced just 110,000 cars, though it hopes to land a deal with Shanghai Automotive Industry Corporation (SAIC) that could help double the number of cars produced at Longbridge. Indeed, Mini is not only producing more cars than MG Rover does; it remains ahead even when the current sales of Land Rovers and Range Rovers (which are made by the former Rover unit that BMW sold to Ford) are taken into account.\n",
         "business"
        ],
        [
         "49",
         "Bad weather hits Nestle sales\n\nA combination of bad weather, rising raw material costs and the sluggish European economy has hit sales at Swiss food and drink giant Nestle.\n\nRevenue dipped 1.4% to 86.7bn Swiss francs ($74.6bn; Â£39.1bn) in 2004 as sales of ice cream and mineral water were dampened by the wet summer. However, Nestle's profits margins were helped by a strong performance in the Americas and China. Nestle is to raise its dividend by 11% after paying back some of its debt.\n\nNestle said that the strength of the Swiss franc against the US dollar, the disposal of businesses and challenging trading conditions in Europe all dented sales. A poor summer across the continent - in contrast to the prolonged heat wave in 2003 - \"severely affected\" demand for ice cream. Sales of bottled water also fell, although chocolate, coffee, frozen goods and petcare products performed better.\n\nElsewhere, Nestle said it had enjoyed an \"exceptional\" year in North America, outperforming the market in terms of sales growth. Nestle added that it had performed strongly in Africa and Asia despite the impact of high oil prices and political instability. Nestle's total earnings before interest remained broadly flat over the past year, despite the company managing to boost profit margins. As well as increasing its dividend, Nestle plans to buy back shares worth 1bn Swiss francs ($861m; Â£451m). Looking forward, Nestle forecasts organic earnings growth of about 5% in 2005, although it warned that trading would remain just as competitive.\n\nUncertainty remains over the future of Perrier, the iconic French mineral water owned by Nestle. Perrier has been locked in a long-standing dispute with unions about productivity levels at the business, which has lead Nestle to consider selling the firm. \"The option of selling is Perrier is still on the table,\" chief executive Peter Brabeck-Letmathe confirmed on Thursday.\n",
         "business"
        ]
       ],
       "shape": {
        "columns": 2,
        "rows": 2225
       }
      },
      "text/html": [
       "<div>\n",
       "<style scoped>\n",
       "    .dataframe tbody tr th:only-of-type {\n",
       "        vertical-align: middle;\n",
       "    }\n",
       "\n",
       "    .dataframe tbody tr th {\n",
       "        vertical-align: top;\n",
       "    }\n",
       "\n",
       "    .dataframe thead th {\n",
       "        text-align: right;\n",
       "    }\n",
       "</style>\n",
       "<table border=\"1\" class=\"dataframe\">\n",
       "  <thead>\n",
       "    <tr style=\"text-align: right;\">\n",
       "      <th></th>\n",
       "      <th>text</th>\n",
       "      <th>category</th>\n",
       "    </tr>\n",
       "  </thead>\n",
       "  <tbody>\n",
       "    <tr>\n",
       "      <th>0</th>\n",
       "      <td>Ad sales boost Time Warner profit\\n\\nQuarterly...</td>\n",
       "      <td>business</td>\n",
       "    </tr>\n",
       "    <tr>\n",
       "      <th>1</th>\n",
       "      <td>Dollar gains on Greenspan speech\\n\\nThe dollar...</td>\n",
       "      <td>business</td>\n",
       "    </tr>\n",
       "    <tr>\n",
       "      <th>2</th>\n",
       "      <td>Yukos unit buyer faces loan claim\\n\\nThe owner...</td>\n",
       "      <td>business</td>\n",
       "    </tr>\n",
       "    <tr>\n",
       "      <th>3</th>\n",
       "      <td>High fuel prices hit BA's profits\\n\\nBritish A...</td>\n",
       "      <td>business</td>\n",
       "    </tr>\n",
       "    <tr>\n",
       "      <th>4</th>\n",
       "      <td>Pernod takeover talk lifts Domecq\\n\\nShares in...</td>\n",
       "      <td>business</td>\n",
       "    </tr>\n",
       "    <tr>\n",
       "      <th>...</th>\n",
       "      <td>...</td>\n",
       "      <td>...</td>\n",
       "    </tr>\n",
       "    <tr>\n",
       "      <th>2220</th>\n",
       "      <td>BT program to beat dialler scams\\n\\nBT is intr...</td>\n",
       "      <td>tech</td>\n",
       "    </tr>\n",
       "    <tr>\n",
       "      <th>2221</th>\n",
       "      <td>Spam e-mails tempt net shoppers\\n\\nComputer us...</td>\n",
       "      <td>tech</td>\n",
       "    </tr>\n",
       "    <tr>\n",
       "      <th>2222</th>\n",
       "      <td>Be careful how you code\\n\\nA new European dire...</td>\n",
       "      <td>tech</td>\n",
       "    </tr>\n",
       "    <tr>\n",
       "      <th>2223</th>\n",
       "      <td>US cyber security chief resigns\\n\\nThe man mak...</td>\n",
       "      <td>tech</td>\n",
       "    </tr>\n",
       "    <tr>\n",
       "      <th>2224</th>\n",
       "      <td>Losing yourself in online gaming\\n\\nOnline rol...</td>\n",
       "      <td>tech</td>\n",
       "    </tr>\n",
       "  </tbody>\n",
       "</table>\n",
       "<p>2225 rows × 2 columns</p>\n",
       "</div>"
      ],
      "text/plain": [
       "                                                   text  category\n",
       "0     Ad sales boost Time Warner profit\\n\\nQuarterly...  business\n",
       "1     Dollar gains on Greenspan speech\\n\\nThe dollar...  business\n",
       "2     Yukos unit buyer faces loan claim\\n\\nThe owner...  business\n",
       "3     High fuel prices hit BA's profits\\n\\nBritish A...  business\n",
       "4     Pernod takeover talk lifts Domecq\\n\\nShares in...  business\n",
       "...                                                 ...       ...\n",
       "2220  BT program to beat dialler scams\\n\\nBT is intr...      tech\n",
       "2221  Spam e-mails tempt net shoppers\\n\\nComputer us...      tech\n",
       "2222  Be careful how you code\\n\\nA new European dire...      tech\n",
       "2223  US cyber security chief resigns\\n\\nThe man mak...      tech\n",
       "2224  Losing yourself in online gaming\\n\\nOnline rol...      tech\n",
       "\n",
       "[2225 rows x 2 columns]"
      ]
     },
     "execution_count": 4,
     "metadata": {},
     "output_type": "execute_result"
    }
   ],
   "source": [
    "news_df"
   ]
  },
  {
   "cell_type": "markdown",
   "id": "eb418d03",
   "metadata": {},
   "source": [
    "Named-Entitiy"
   ]
  },
  {
   "cell_type": "code",
   "execution_count": 5,
   "id": "98d338b4",
   "metadata": {},
   "outputs": [],
   "source": [
    "def preserve_entities(text):\n",
    "    doc = nlp(text)\n",
    "    preserved = text\n",
    "    for ent in doc.ents:\n",
    "        tag = f\"<{ent.label_}:{ent.text.replace(' ', '_')}>\" # Replace spaces with underscores in the entity text\n",
    "        preserved = preserved.replace(ent.text, tag) # Preserve the entity text\n",
    "    return preserved"
   ]
  },
  {
   "cell_type": "code",
   "execution_count": 6,
   "id": "42d555fa",
   "metadata": {},
   "outputs": [],
   "source": [
    "news_df['text_preserved'] = news_df['text'].apply(preserve_entities)"
   ]
  },
  {
   "cell_type": "markdown",
   "id": "d7bed66d",
   "metadata": {},
   "source": [
    "Regex"
   ]
  },
  {
   "cell_type": "code",
   "execution_count": 7,
   "id": "c98daf02",
   "metadata": {},
   "outputs": [],
   "source": [
    "def clean_text(text):\n",
    "    # HTML taglerini kaldır\n",
    "    text = re.sub(r'<.*?>', ' ', text)\n",
    "\n",
    "    # URL'leri kaldır\n",
    "    text = re.sub(r'http\\S+|www\\S+|https\\S+', ' ', text)\n",
    "\n",
    "    # E-mail adreslerini kaldır\n",
    "    text = re.sub(r'\\S+@\\S+', ' ', text)\n",
    "\n",
    "    # Sayıları kaldır\n",
    "    text = re.sub(r'\\d+', ' ', text)\n",
    "\n",
    "    # Sadece harfleri ve boşlukları bırak\n",
    "    text = re.sub(r'[^a-zA-Z\\s<>_:]', ' ', text)  # <ENTITY_TAG> formatına zarar vermez.\n",
    "\n",
    "    # Küçük harfe çevir\n",
    "    text = text.lower()\n",
    "\n",
    "    # Birden fazla boşluğu tek boşluk yap\n",
    "    text = re.sub(r'\\s+', ' ', text).strip()\n",
    "\n",
    "    return text\n"
   ]
  },
  {
   "cell_type": "code",
   "execution_count": 8,
   "id": "0dfdc40b",
   "metadata": {},
   "outputs": [],
   "source": [
    "news_df['text_cleaned'] = news_df['text_preserved'].apply(clean_text)"
   ]
  },
  {
   "cell_type": "code",
   "execution_count": 9,
   "id": "26ddad43",
   "metadata": {},
   "outputs": [
    {
     "name": "stdout",
     "output_type": "stream",
     "text": [
      "                                                                                                                                                                                                                                                                                                                                                                                                                                                                                                                                                                                                                                                                                                                                                                                                                                                                                                                                                                                                                                                                                                                                                                                                                                                                                                                                                                                                                                                                                                                                                                                                                                                                                                                                                                                                                                                   text                                                                                                                                                                                                                                                                                                                                                                                                                                                                                                                                                                                                                                                                                                                                                                                                                                                                                                                                                                                                                                                                                                                                                                                                                                                                                                                                                                                                                                                                                                                                                                                                                                                                                                                                                                                                                                                                                                                                                                                                                                                                                                                                                                                                                                                                                                                                 text_preserved                                                                                                                                                                                                                                                                                                                                                                                                                                                                                                                                                                                                                                                                                                                                                                                                                                                                                                                                                                                                                                                                                                                                                                                                                                                                                                                                                                                                                                                                                                                                                                   text_cleaned\n",
      "1659  Moore questions captaincy\\n\\nBrian Moore believes the England captain should not be a full-back.\\n\\nJason Robinson has led the team during their opening three defeats in the Six Nations tournament, in the absence of fly-half Jonny Wilkinson. The world champions have struggled since the retirement of former captain Martin Johnson, a lock forward. And former England captain Moore told the BBC: \"Full-backs are too far away from the action. That's not a reflection on Robinson personally.\" He added: \"I just think the point of influence needs to move closer to the pack - which is, after all, where games usually start and finish.\" Moore says a lack of cohesion in the forwards is one of the reasons why England have lost against Wales, France and Ireland in this year's tournament. \"Assertiveness in the pack isn't there, we're not getting enough people into the breakdowns,\" he explained. \"Wer'e not getting quick ball, which means the backs are being stifled. Their creativity depends on quick ball and we're not getting that.\"\\n\\nWith injuries depriving him of key players like Wilkinson, coach Andy Robinson has given youngsters such as Harry Ellis and Jamie Noon a chance. And Moore believes the last two games against Italy and Scotland are a good opportunity to experiment further. \"The problem is the players that are around to replace the icons which have been lost because of retirement and injury don't have the requisite experience,\" Moore added. \"You can't do anything about that but play them. There are players who have been knocking on the door, it's time for them to be looked at in these last two games because there's nothing on them. \"We then go into next season with a greater certainty of who can and cannot handle the pressure of international rugby.\"\\n  <PERSON:<PERSON:<PERSON:<PERSON:Moore>>>> questions captaincy\\n\\n<PERSON:Brian_<PERSON:<PERSON:<PERSON:<PERSON:Moore>>>>> believes the <GPE:<GPE:<GPE:England>>> captain should not be a full-back.\\n\\n<PERSON:Jason_<PERSON:Robinson>> has led the team during their opening <CARDINAL:three> defeats in <EVENT:the_Six_Nations> tournament, in the absence of fly-half <PERSON:Jonny_<ORG:Wilkinson>>. The world champions have struggled since the retirement of former captain <PERSON:Martin_Johnson>, a lock forward. And former <GPE:<GPE:<GPE:England>>> captain <PERSON:<PERSON:<PERSON:<PERSON:Moore>>>> told the <ORG:BBC>: \"Full-backs are too far away from the action. That's not a reflection on <PERSON:Robinson> personally.\" He added: \"I just think the point of influence needs to move closer to the pack - which is, after all, where games usually start and finish.\" <PERSON:<PERSON:<PERSON:<PERSON:Moore>>>> says a lack of cohesion in the forwards is one of the reasons why <GPE:<GPE:<GPE:England>>> have lost against <GPE:Wales>, <GPE:France> and <GPE:Ireland> in this <DATE:year>'s tournament. \"Assertiveness in the pack isn't there, we're not getting enough people into the breakdowns,\" he explained. \"Wer'e not getting quick ball, which means the backs are being stifled. Their creativity depends on quick ball and we're not getting that.\"\\n\\nWith injuries depriving him of key players like <ORG:Wilkinson>, coach Andy <PERSON:Robinson> has given youngsters such as <PERSON:Harry_Ellis> and <PERSON:Jamie_Noon> a chance. And <PERSON:<PERSON:<PERSON:<PERSON:Moore>>>> believes the last <CARDINAL:<CARDINAL:two>> games against <GPE:Italy> and <GPE:Scotland> are a good opportunity to experiment further. \"The problem is the players that are around to replace the icons which have been lost because of retirement and injury don't have the requisite experience,\" <PERSON:<PERSON:<PERSON:<PERSON:Moore>>>> added. \"You can't do anything about that but play them. There are players who have been knocking on the door, it's time for them to be looked at in these last <CARDINAL:<CARDINAL:two>> games because there's nothing on them. \"We then go into <DATE:next_season> with a greater certainty of who can and cannot handle the pressure of international rugby.\"\\n  >>> questions captaincy >>>> believes the >> captain should not be a full back > has led the team during their opening defeats in tournament in the absence of fly half > the world champions have struggled since the retirement of former captain a lock forward and former >> captain >>> told the : full backs are too far away from the action that s not a reflection on personally he added: i just think the point of influence needs to move closer to the pack which is after all where games usually start and finish >>> says a lack of cohesion in the forwards is one of the reasons why >> have lost against and in this s tournament assertiveness in the pack isn t there we re not getting enough people into the breakdowns he explained wer e not getting quick ball which means the backs are being stifled their creativity depends on quick ball and we re not getting that with injuries depriving him of key players like coach andy has given youngsters such as and a chance and >>> believes the last > games against and are a good opportunity to experiment further the problem is the players that are around to replace the icons which have been lost because of retirement and injury don t have the requisite experience >>> added you can t do anything about that but play them there are players who have been knocking on the door it s time for them to be looked at in these last > games because there s nothing on them we then go into with a greater certainty of who can and cannot handle the pressure of international rugby\n"
     ]
    }
   ],
   "source": [
    "print(news_df[['text', 'text_preserved', 'text_cleaned']].sample(1).to_string())"
   ]
  },
  {
   "cell_type": "markdown",
   "id": "d85d113c",
   "metadata": {},
   "source": [
    "Normalizing"
   ]
  },
  {
   "cell_type": "code",
   "execution_count": 10,
   "id": "14c4c4e5",
   "metadata": {},
   "outputs": [],
   "source": [
    "def normalize_text(text):\n",
    "    text = text.lower()\n",
    "    text = re.sub(r'[^a-zA-Z0-9\\s]', '', text)  # Noktalama işaretlerini kaldır\n",
    "    return text\n"
   ]
  },
  {
   "cell_type": "markdown",
   "id": "16279828",
   "metadata": {},
   "source": [
    "Lemmatization"
   ]
  },
  {
   "cell_type": "code",
   "execution_count": 11,
   "id": "abcc10d6",
   "metadata": {},
   "outputs": [],
   "source": [
    "def lemmatize_text(text):\n",
    "    doc = nlp(text)\n",
    "    return ' '.join([token.lemma_ for token in doc if not token.is_stop])\n"
   ]
  },
  {
   "cell_type": "markdown",
   "id": "045f0503",
   "metadata": {},
   "source": [
    "Stemming"
   ]
  },
  {
   "cell_type": "code",
   "execution_count": 12,
   "id": "2e665918",
   "metadata": {},
   "outputs": [],
   "source": [
    "from nltk.stem import PorterStemmer\n",
    "stemmer = PorterStemmer()\n",
    "\n",
    "def stem_text(text):\n",
    "    return ' '.join([stemmer.stem(word) for word in text.split()])\n"
   ]
  },
  {
   "cell_type": "markdown",
   "id": "9aba4eec",
   "metadata": {},
   "source": [
    "Text Process"
   ]
  },
  {
   "cell_type": "code",
   "execution_count": 13,
   "id": "c6138a19",
   "metadata": {},
   "outputs": [],
   "source": [
    "news_df['clean_text'] = news_df['text'].apply(preserve_entities)\n",
    "news_df['clean_text'] = news_df['clean_text'].apply(normalize_text)\n",
    "news_df['clean_text'] = news_df['clean_text'].apply(lemmatize_text)\n",
    "# news_df['clean_text'] = news_df['clean_text'].apply(stem_text)  # İsteğe bağlı olarak açılabilir\n"
   ]
  },
  {
   "cell_type": "markdown",
   "id": "d26d6901",
   "metadata": {},
   "source": [
    "Type Correction"
   ]
  },
  {
   "cell_type": "code",
   "execution_count": 14,
   "id": "98cf85fe",
   "metadata": {},
   "outputs": [],
   "source": [
    "def correct_typos(text, vocab, threshold=90):\n",
    "    corrected_words = []\n",
    "    for word in text.split():\n",
    "        if word in vocab or word.startswith(\"<\") or word.endswith(\">\"):\n",
    "            corrected_words.append(word)\n",
    "        else:\n",
    "            match, score, _ = process.extractOne(word, vocab)\n",
    "            if score >= threshold:\n",
    "                corrected_words.append(match)\n",
    "            else:\n",
    "                corrected_words.append(word)\n",
    "    return ' '.join(corrected_words)\n"
   ]
  },
  {
   "cell_type": "markdown",
   "id": "81f0454c",
   "metadata": {},
   "source": [
    "Count Vectorizer"
   ]
  },
  {
   "cell_type": "code",
   "execution_count": 15,
   "id": "50c7a3a8",
   "metadata": {},
   "outputs": [],
   "source": [
    "vectorizer_vocab = CountVectorizer(min_df=5)\n",
    "vectorizer_vocab.fit(news_df['clean_text'])\n",
    "vocab = set(vectorizer_vocab.get_feature_names_out())\n"
   ]
  },
  {
   "cell_type": "code",
   "execution_count": 16,
   "id": "2cb24abd",
   "metadata": {},
   "outputs": [],
   "source": [
    "news_df['clean_text'] = news_df['clean_text'].apply(lambda text: correct_typos(text, vocab))"
   ]
  },
  {
   "cell_type": "markdown",
   "id": "fa062b64",
   "metadata": {},
   "source": [
    "TF-IDF"
   ]
  },
  {
   "cell_type": "code",
   "execution_count": 17,
   "id": "3c17958a",
   "metadata": {},
   "outputs": [],
   "source": [
    "vectorizer = TfidfVectorizer(\n",
    "    ngram_range=(1, 3),\n",
    "    max_df=0.80,\n",
    "    min_df=3,\n",
    "    max_features=8000,\n",
    "    sublinear_tf=True,\n",
    "    stop_words='english'\n",
    ")\n",
    "X_tfidf = vectorizer.fit_transform(news_df['clean_text'])\n",
    "\n",
    "\n",
    "y = news_df['category']"
   ]
  },
  {
   "cell_type": "code",
   "execution_count": 18,
   "id": "1bd1fc16",
   "metadata": {},
   "outputs": [
    {
     "name": "stdout",
     "output_type": "stream",
     "text": [
      "TF-IDF shape: (2225, 8000)\n",
      "Sample feature names: ['10' '10 command' '100' '100 command' '10000' '100000' '10bn' '11' '11bn'\n",
      " '12']\n"
     ]
    }
   ],
   "source": [
    "print(\"TF-IDF shape:\", X_tfidf.shape)\n",
    "print(\"Sample feature names:\", vectorizer.get_feature_names_out()[:10])\n"
   ]
  },
  {
   "cell_type": "markdown",
   "id": "215d610d",
   "metadata": {},
   "source": [
    "Splitting and Naive Bayes Algorithm"
   ]
  },
  {
   "cell_type": "code",
   "execution_count": 19,
   "id": "5f2f166e",
   "metadata": {},
   "outputs": [
    {
     "name": "stdout",
     "output_type": "stream",
     "text": [
      "Classification Report:\n",
      "                precision    recall  f1-score   support\n",
      "\n",
      "     business       0.93      0.96      0.94       115\n",
      "entertainment       0.99      0.92      0.95        72\n",
      "     politics       0.91      0.96      0.94        76\n",
      "        sport       0.99      0.99      0.99       102\n",
      "         tech       0.96      0.94      0.95        80\n",
      "\n",
      "     accuracy                           0.96       445\n",
      "    macro avg       0.96      0.95      0.95       445\n",
      " weighted avg       0.96      0.96      0.96       445\n",
      "\n"
     ]
    }
   ],
   "source": [
    "X_train, X_test, y_train, y_test = train_test_split(X_tfidf, y, test_size = 0.2, random_state = 42)\n",
    "\n",
    "nb_model = MultinomialNB()\n",
    "nb_model.fit(X_train, y_train)\n",
    "\n",
    "y_pred = nb_model.predict(X_test)\n",
    "\n",
    "print(\"Classification Report:\\n\", classification_report(y_test, y_pred))"
   ]
  },
  {
   "cell_type": "markdown",
   "id": "29c4a20f",
   "metadata": {},
   "source": [
    "Confusion Matrix"
   ]
  },
  {
   "cell_type": "code",
   "execution_count": 20,
   "id": "399b1046",
   "metadata": {},
   "outputs": [
    {
     "data": {
      "image/png": "[encoded data removed]",
      "text/plain": [
       "<Figure size 800x600 with 2 Axes>"
      ]
     },
     "metadata": {},
     "output_type": "display_data"
    }
   ],
   "source": [
    "labels = sorted(news_df['category'].unique())\n",
    "cm = confusion_matrix(y_test, y_pred, labels=labels)\n",
    "\n",
    "plt.figure(figsize=(8,6))\n",
    "sns.heatmap(cm, annot=True, fmt='d', cmap='Blues', xticklabels=labels, yticklabels=labels)\n",
    "plt.xlabel('Predicted')\n",
    "plt.ylabel('Actual')\n",
    "plt.title('Confusion Matrix - Naive Bayes')\n",
    "plt.show()"
   ]
  },
  {
   "cell_type": "markdown",
   "id": "4a9ece5c",
   "metadata": {},
   "source": [
    "Top Features for Each Category"
   ]
  },
  {
   "cell_type": "code",
   "execution_count": 21,
   "id": "159bde0a",
   "metadata": {},
   "outputs": [
    {
     "name": "stdout",
     "output_type": "stream",
     "text": [
      "\n",
      "Top features for 'business':\n",
      "analyst, price, sale, economy, share, rise, growth, firm, market, company\n",
      "\n",
      "Top features for 'entertainment':\n",
      "work, singer, album, music, good, include, actor, award, star, film\n",
      "\n",
      "Top features for 'politics':\n",
      "secretary, leader, mr person, people, plan, party, minister, government, election, mr\n",
      "\n",
      "Top features for 'sport':\n",
      "disable, person person, coach, command, team, match, player, play, game, win\n",
      "\n",
      "Top features for 'tech':\n",
      "digital, mobile, service, net, software, use, computer, user, technology, people\n"
     ]
    }
   ],
   "source": [
    "def show_top_features_nb(classifier, vectorizer, class_labels, n=10):\n",
    "    feature_names = vectorizer.get_feature_names_out()\n",
    "    for i, class_label in enumerate(class_labels):\n",
    "        top_indices = np.argsort(classifier.feature_log_prob_[i])[-n:]\n",
    "        top_features = [feature_names[j] for j in top_indices]\n",
    "        print(f\"\\nTop features for '{class_label}':\")\n",
    "        print(\", \".join(top_features))\n",
    "show_top_features_nb(nb_model, vectorizer, nb_model.classes_)\n"
   ]
  },
  {
   "cell_type": "code",
   "execution_count": 22,
   "id": "14768f70",
   "metadata": {},
   "outputs": [],
   "source": [
    "from sklearn.model_selection import GridSearchCV\n",
    "from sklearn.pipeline import Pipeline\n",
    "from sklearn.linear_model import LogisticRegression\n",
    "from sklearn.tree import DecisionTreeClassifier\n",
    "from sklearn.svm import LinearSVC\n",
    "from sklearn.neural_network import MLPClassifier\n",
    "from sklearn.ensemble import VotingClassifier, RandomForestClassifier\n",
    "from sklearn.model_selection import StratifiedKFold"
   ]
  },
  {
   "cell_type": "markdown",
   "id": "b31766b0",
   "metadata": {},
   "source": [
    "Cross Validation"
   ]
  },
  {
   "cell_type": "code",
   "execution_count": 23,
   "id": "c05002d1",
   "metadata": {},
   "outputs": [],
   "source": [
    "cv_strategy = StratifiedKFold(n_splits=5, shuffle=True, random_state=42)\n"
   ]
  },
  {
   "cell_type": "markdown",
   "id": "a080ab5c",
   "metadata": {},
   "source": [
    "Hyperparameter Tuning"
   ]
  },
  {
   "cell_type": "code",
   "execution_count": null,
   "id": "db815e5b",
   "metadata": {},
   "outputs": [],
   "source": [
    "models = {\n",
    "    \"LogisticRegression\": (LogisticRegression(max_iter=1000), [\n",
    "        {\n",
    "            'clf__C': [0.01, 0.1, 1, 10],\n",
    "            'clf__penalty': ['l1', 'l2'],\n",
    "            'clf__solver': ['liblinear']\n",
    "        },\n",
    "        {\n",
    "            'clf__C': [0.01, 0.1, 1, 10],\n",
    "            'clf__penalty': ['elasticnet'],\n",
    "            'clf__solver': ['saga'],\n",
    "            'clf__l1_ratio': [0.2, 0.5, 0.8]\n",
    "        }\n",
    "    ]),\n",
    "    \n",
    "    \"DecisionTree\": (DecisionTreeClassifier(random_state=42), {\n",
    "        \"clf__max_depth\": [5, 10, 15, 20],\n",
    "        \"clf__min_samples_split\": [5, 10, 20],\n",
    "        \"clf__min_samples_leaf\": [2, 5, 10],\n",
    "        \"clf__max_features\": ['sqrt', 'log2', None]\n",
    "    }),\n",
    "    \n",
    "    \"SVM\": (LinearSVC(max_iter=10000, random_state=42), {\n",
    "        \"clf__C\": [0.01, 0.1, 1, 10],\n",
    "        \"clf__penalty\": ['l1', 'l2'],\n",
    "        \"clf__dual\": [False]\n",
    "    }),\n",
    "    \n",
    "    \"MLP\": (MLPClassifier(max_iter=500, random_state=42), {\n",
    "        \"clf__hidden_layer_sizes\": [(50,), (100,), (100, 50)],\n",
    "        \"clf__alpha\": [0.001, 0.01, 0.1],\n",
    "        \"clf__validation_fraction\": [0.1]\n",
    "    })\n",
    "}\n"
   ]
  },
  {
   "cell_type": "markdown",
   "id": "8a484516",
   "metadata": {},
   "source": [
    "Voting Ensemble (Logistic Regression + Support Vector Machine + Random Forest)"
   ]
  },
  {
   "cell_type": "code",
   "execution_count": 27,
   "id": "c1c4f701",
   "metadata": {},
   "outputs": [],
   "source": [
    "log_reg = LogisticRegression(C=1, penalty='l2', max_iter=1000)\n",
    "svm = LinearSVC(C=0.1, max_iter=10000)\n",
    "rf = RandomForestClassifier(n_estimators=100, max_depth=15, \n",
    "                            min_samples_split=10, random_state=42)\n",
    "\n",
    "voting_ensemble = VotingClassifier(\n",
    "    estimators=[('lr', log_reg), ('svm', svm), ('rf', rf)],\n",
    "    voting='hard'\n",
    ")\n",
    "\n",
    "models[\"RandomForest\"] = (RandomForestClassifier(random_state=42), {\n",
    "    \"clf__n_estimators\": [50, 100],\n",
    "    \"clf__max_depth\": [10, 15, 20],\n",
    "    \"clf__min_samples_split\": [5, 10],\n",
    "    \"clf__min_samples_leaf\": [2, 5]\n",
    "})\n",
    "\n",
    "models[\"VotingEnsemble\"] = (voting_ensemble, {})\n"
   ]
  },
  {
   "cell_type": "markdown",
   "id": "b813b55c",
   "metadata": {},
   "source": [
    "Modeling with Hyperparameter Tuning"
   ]
  },
  {
   "cell_type": "code",
   "execution_count": 28,
   "id": "d2aeb23d",
   "metadata": {},
   "outputs": [
    {
     "name": "stdout",
     "output_type": "stream",
     "text": [
      "\n",
      "Training and tuning LogisticRegression...\n",
      "Fitting 5 folds for each of 24 candidates, totalling 120 fits\n"
     ]
    },
    {
     "name": "stderr",
     "output_type": "stream",
     "text": [
      "c:\\Users\\Livan\\OneDrive\\Masaüstü\\Work\\NLP-Project\\nlpproject\\lib\\site-packages\\sklearn\\model_selection\\_validation.py:528: FitFailedWarning: \n",
      "40 fits failed out of a total of 120.\n",
      "The score on these train-test partitions for these parameters will be set to nan.\n",
      "If these failures are not expected, you can try to debug them by setting error_score='raise'.\n",
      "\n",
      "Below are more details about the failures:\n",
      "--------------------------------------------------------------------------------\n",
      "20 fits failed with the following error:\n",
      "Traceback (most recent call last):\n",
      "  File \"c:\\Users\\Livan\\OneDrive\\Masaüstü\\Work\\NLP-Project\\nlpproject\\lib\\site-packages\\sklearn\\model_selection\\_validation.py\", line 866, in _fit_and_score\n",
      "    estimator.fit(X_train, y_train, **fit_params)\n",
      "  File \"c:\\Users\\Livan\\OneDrive\\Masaüstü\\Work\\NLP-Project\\nlpproject\\lib\\site-packages\\sklearn\\base.py\", line 1389, in wrapper\n",
      "    return fit_method(estimator, *args, **kwargs)\n",
      "  File \"c:\\Users\\Livan\\OneDrive\\Masaüstü\\Work\\NLP-Project\\nlpproject\\lib\\site-packages\\sklearn\\pipeline.py\", line 662, in fit\n",
      "    self._final_estimator.fit(Xt, y, **last_step_params[\"fit\"])\n",
      "  File \"c:\\Users\\Livan\\OneDrive\\Masaüstü\\Work\\NLP-Project\\nlpproject\\lib\\site-packages\\sklearn\\base.py\", line 1389, in wrapper\n",
      "    return fit_method(estimator, *args, **kwargs)\n",
      "  File \"c:\\Users\\Livan\\OneDrive\\Masaüstü\\Work\\NLP-Project\\nlpproject\\lib\\site-packages\\sklearn\\linear_model\\_logistic.py\", line 1193, in fit\n",
      "    solver = _check_solver(self.solver, self.penalty, self.dual)\n",
      "  File \"c:\\Users\\Livan\\OneDrive\\Masaüstü\\Work\\NLP-Project\\nlpproject\\lib\\site-packages\\sklearn\\linear_model\\_logistic.py\", line 71, in _check_solver\n",
      "    raise ValueError(\n",
      "ValueError: Only 'saga' solver supports elasticnet penalty, got solver=liblinear.\n",
      "\n",
      "--------------------------------------------------------------------------------\n",
      "20 fits failed with the following error:\n",
      "Traceback (most recent call last):\n",
      "  File \"c:\\Users\\Livan\\OneDrive\\Masaüstü\\Work\\NLP-Project\\nlpproject\\lib\\site-packages\\sklearn\\model_selection\\_validation.py\", line 866, in _fit_and_score\n",
      "    estimator.fit(X_train, y_train, **fit_params)\n",
      "  File \"c:\\Users\\Livan\\OneDrive\\Masaüstü\\Work\\NLP-Project\\nlpproject\\lib\\site-packages\\sklearn\\base.py\", line 1389, in wrapper\n",
      "    return fit_method(estimator, *args, **kwargs)\n",
      "  File \"c:\\Users\\Livan\\OneDrive\\Masaüstü\\Work\\NLP-Project\\nlpproject\\lib\\site-packages\\sklearn\\pipeline.py\", line 662, in fit\n",
      "    self._final_estimator.fit(Xt, y, **last_step_params[\"fit\"])\n",
      "  File \"c:\\Users\\Livan\\OneDrive\\Masaüstü\\Work\\NLP-Project\\nlpproject\\lib\\site-packages\\sklearn\\base.py\", line 1389, in wrapper\n",
      "    return fit_method(estimator, *args, **kwargs)\n",
      "  File \"c:\\Users\\Livan\\OneDrive\\Masaüstü\\Work\\NLP-Project\\nlpproject\\lib\\site-packages\\sklearn\\linear_model\\_logistic.py\", line 1203, in fit\n",
      "    raise ValueError(\"l1_ratio must be specified when penalty is elasticnet.\")\n",
      "ValueError: l1_ratio must be specified when penalty is elasticnet.\n",
      "\n",
      "  warnings.warn(some_fits_failed_message, FitFailedWarning)\n",
      "c:\\Users\\Livan\\OneDrive\\Masaüstü\\Work\\NLP-Project\\nlpproject\\lib\\site-packages\\sklearn\\model_selection\\_search.py:1108: UserWarning: One or more of the test scores are non-finite: [0.07473705 0.07014345 0.28232559 0.26392427        nan        nan\n",
      " 0.1898195  0.1961548  0.92516249 0.9344274         nan        nan\n",
      " 0.92213822 0.91049849 0.97396897 0.97572067        nan        nan\n",
      " 0.96342585 0.95142691 0.97745373 0.97745373        nan        nan]\n",
      "  warnings.warn(\n"
     ]
    },
    {
     "name": "stdout",
     "output_type": "stream",
     "text": [
      "LogisticRegression\n",
      "  - CV Score: 0.9775 (+/- 0.0114)\n",
      "  - Training Accuracy: 1.0000\n",
      "  - Testing Accuracy : 0.9708\n",
      "  - Gap: 0.0292\n",
      "  - Best Params: {'clf__C': 10, 'clf__penalty': 'l2', 'clf__solver': 'liblinear'}\n",
      "\n",
      "Training and tuning DecisionTree...\n",
      "Fitting 5 folds for each of 108 candidates, totalling 540 fits\n",
      "DecisionTree\n",
      "  - CV Score: 0.8015 (+/- 0.0269)\n",
      "  - Training Accuracy: 0.9348\n",
      "  - Testing Accuracy : 0.8270\n",
      "  - Gap: 0.1079\n",
      "  - Best Params: {'clf__max_depth': 20, 'clf__max_features': None, 'clf__min_samples_leaf': 2, 'clf__min_samples_split': 20}\n",
      "\n",
      "Training and tuning SVM...\n",
      "Fitting 5 folds for each of 8 candidates, totalling 40 fits\n",
      "SVM\n",
      "  - CV Score: 0.9812 (+/- 0.0125)\n",
      "  - Training Accuracy: 1.0000\n",
      "  - Testing Accuracy : 0.9730\n",
      "  - Gap: 0.0270\n",
      "  - Best Params: {'clf__C': 10, 'clf__dual': False, 'clf__penalty': 'l2'}\n",
      "\n",
      "Training and tuning MLP...\n",
      "Fitting 5 folds for each of 9 candidates, totalling 45 fits\n"
     ]
    },
    {
     "ename": "KeyboardInterrupt",
     "evalue": "",
     "output_type": "error",
     "traceback": [
      "\u001b[1;31m---------------------------------------------------------------------------\u001b[0m",
      "\u001b[1;31mKeyboardInterrupt\u001b[0m                         Traceback (most recent call last)",
      "Cell \u001b[1;32mIn[28], line 18\u001b[0m\n\u001b[0;32m      7\u001b[0m pipeline \u001b[38;5;241m=\u001b[39m Pipeline([(\u001b[38;5;124m'\u001b[39m\u001b[38;5;124mclf\u001b[39m\u001b[38;5;124m'\u001b[39m, model)])\n\u001b[0;32m      9\u001b[0m grid \u001b[38;5;241m=\u001b[39m GridSearchCV(\n\u001b[0;32m     10\u001b[0m     pipeline, \n\u001b[0;32m     11\u001b[0m     param_grid, \n\u001b[1;32m   (...)\u001b[0m\n\u001b[0;32m     15\u001b[0m     verbose\u001b[38;5;241m=\u001b[39m\u001b[38;5;241m1\u001b[39m\n\u001b[0;32m     16\u001b[0m )\n\u001b[1;32m---> 18\u001b[0m \u001b[43mgrid\u001b[49m\u001b[38;5;241;43m.\u001b[39;49m\u001b[43mfit\u001b[49m\u001b[43m(\u001b[49m\u001b[43mX_train\u001b[49m\u001b[43m,\u001b[49m\u001b[43m \u001b[49m\u001b[43my_train\u001b[49m\u001b[43m)\u001b[49m\n\u001b[0;32m     19\u001b[0m best_model \u001b[38;5;241m=\u001b[39m grid\u001b[38;5;241m.\u001b[39mbest_estimator_\n\u001b[0;32m     21\u001b[0m cv_scores \u001b[38;5;241m=\u001b[39m cross_val_score(best_model, X_train, y_train, \n\u001b[0;32m     22\u001b[0m                             cv\u001b[38;5;241m=\u001b[39mcv_strategy, scoring\u001b[38;5;241m=\u001b[39m\u001b[38;5;124m'\u001b[39m\u001b[38;5;124mf1_macro\u001b[39m\u001b[38;5;124m'\u001b[39m)\n",
      "File \u001b[1;32mc:\\Users\\Livan\\OneDrive\\Masaüstü\\Work\\NLP-Project\\nlpproject\\lib\\site-packages\\sklearn\\base.py:1389\u001b[0m, in \u001b[0;36m_fit_context.<locals>.decorator.<locals>.wrapper\u001b[1;34m(estimator, *args, **kwargs)\u001b[0m\n\u001b[0;32m   1382\u001b[0m     estimator\u001b[38;5;241m.\u001b[39m_validate_params()\n\u001b[0;32m   1384\u001b[0m \u001b[38;5;28;01mwith\u001b[39;00m config_context(\n\u001b[0;32m   1385\u001b[0m     skip_parameter_validation\u001b[38;5;241m=\u001b[39m(\n\u001b[0;32m   1386\u001b[0m         prefer_skip_nested_validation \u001b[38;5;129;01mor\u001b[39;00m global_skip_validation\n\u001b[0;32m   1387\u001b[0m     )\n\u001b[0;32m   1388\u001b[0m ):\n\u001b[1;32m-> 1389\u001b[0m     \u001b[38;5;28;01mreturn\u001b[39;00m fit_method(estimator, \u001b[38;5;241m*\u001b[39margs, \u001b[38;5;241m*\u001b[39m\u001b[38;5;241m*\u001b[39mkwargs)\n",
      "File \u001b[1;32mc:\\Users\\Livan\\OneDrive\\Masaüstü\\Work\\NLP-Project\\nlpproject\\lib\\site-packages\\sklearn\\model_selection\\_search.py:1024\u001b[0m, in \u001b[0;36mBaseSearchCV.fit\u001b[1;34m(self, X, y, **params)\u001b[0m\n\u001b[0;32m   1018\u001b[0m     results \u001b[38;5;241m=\u001b[39m \u001b[38;5;28mself\u001b[39m\u001b[38;5;241m.\u001b[39m_format_results(\n\u001b[0;32m   1019\u001b[0m         all_candidate_params, n_splits, all_out, all_more_results\n\u001b[0;32m   1020\u001b[0m     )\n\u001b[0;32m   1022\u001b[0m     \u001b[38;5;28;01mreturn\u001b[39;00m results\n\u001b[1;32m-> 1024\u001b[0m \u001b[38;5;28;43mself\u001b[39;49m\u001b[38;5;241;43m.\u001b[39;49m\u001b[43m_run_search\u001b[49m\u001b[43m(\u001b[49m\u001b[43mevaluate_candidates\u001b[49m\u001b[43m)\u001b[49m\n\u001b[0;32m   1026\u001b[0m \u001b[38;5;66;03m# multimetric is determined here because in the case of a callable\u001b[39;00m\n\u001b[0;32m   1027\u001b[0m \u001b[38;5;66;03m# self.scoring the return type is only known after calling\u001b[39;00m\n\u001b[0;32m   1028\u001b[0m first_test_score \u001b[38;5;241m=\u001b[39m all_out[\u001b[38;5;241m0\u001b[39m][\u001b[38;5;124m\"\u001b[39m\u001b[38;5;124mtest_scores\u001b[39m\u001b[38;5;124m\"\u001b[39m]\n",
      "File \u001b[1;32mc:\\Users\\Livan\\OneDrive\\Masaüstü\\Work\\NLP-Project\\nlpproject\\lib\\site-packages\\sklearn\\model_selection\\_search.py:1571\u001b[0m, in \u001b[0;36mGridSearchCV._run_search\u001b[1;34m(self, evaluate_candidates)\u001b[0m\n\u001b[0;32m   1569\u001b[0m \u001b[38;5;28;01mdef\u001b[39;00m\u001b[38;5;250m \u001b[39m\u001b[38;5;21m_run_search\u001b[39m(\u001b[38;5;28mself\u001b[39m, evaluate_candidates):\n\u001b[0;32m   1570\u001b[0m \u001b[38;5;250m    \u001b[39m\u001b[38;5;124;03m\"\"\"Search all candidates in param_grid\"\"\"\u001b[39;00m\n\u001b[1;32m-> 1571\u001b[0m     \u001b[43mevaluate_candidates\u001b[49m\u001b[43m(\u001b[49m\u001b[43mParameterGrid\u001b[49m\u001b[43m(\u001b[49m\u001b[38;5;28;43mself\u001b[39;49m\u001b[38;5;241;43m.\u001b[39;49m\u001b[43mparam_grid\u001b[49m\u001b[43m)\u001b[49m\u001b[43m)\u001b[49m\n",
      "File \u001b[1;32mc:\\Users\\Livan\\OneDrive\\Masaüstü\\Work\\NLP-Project\\nlpproject\\lib\\site-packages\\sklearn\\model_selection\\_search.py:970\u001b[0m, in \u001b[0;36mBaseSearchCV.fit.<locals>.evaluate_candidates\u001b[1;34m(candidate_params, cv, more_results)\u001b[0m\n\u001b[0;32m    962\u001b[0m \u001b[38;5;28;01mif\u001b[39;00m \u001b[38;5;28mself\u001b[39m\u001b[38;5;241m.\u001b[39mverbose \u001b[38;5;241m>\u001b[39m \u001b[38;5;241m0\u001b[39m:\n\u001b[0;32m    963\u001b[0m     \u001b[38;5;28mprint\u001b[39m(\n\u001b[0;32m    964\u001b[0m         \u001b[38;5;124m\"\u001b[39m\u001b[38;5;124mFitting \u001b[39m\u001b[38;5;132;01m{0}\u001b[39;00m\u001b[38;5;124m folds for each of \u001b[39m\u001b[38;5;132;01m{1}\u001b[39;00m\u001b[38;5;124m candidates,\u001b[39m\u001b[38;5;124m\"\u001b[39m\n\u001b[0;32m    965\u001b[0m         \u001b[38;5;124m\"\u001b[39m\u001b[38;5;124m totalling \u001b[39m\u001b[38;5;132;01m{2}\u001b[39;00m\u001b[38;5;124m fits\u001b[39m\u001b[38;5;124m\"\u001b[39m\u001b[38;5;241m.\u001b[39mformat(\n\u001b[0;32m    966\u001b[0m             n_splits, n_candidates, n_candidates \u001b[38;5;241m*\u001b[39m n_splits\n\u001b[0;32m    967\u001b[0m         )\n\u001b[0;32m    968\u001b[0m     )\n\u001b[1;32m--> 970\u001b[0m out \u001b[38;5;241m=\u001b[39m \u001b[43mparallel\u001b[49m\u001b[43m(\u001b[49m\n\u001b[0;32m    971\u001b[0m \u001b[43m    \u001b[49m\u001b[43mdelayed\u001b[49m\u001b[43m(\u001b[49m\u001b[43m_fit_and_score\u001b[49m\u001b[43m)\u001b[49m\u001b[43m(\u001b[49m\n\u001b[0;32m    972\u001b[0m \u001b[43m        \u001b[49m\u001b[43mclone\u001b[49m\u001b[43m(\u001b[49m\u001b[43mbase_estimator\u001b[49m\u001b[43m)\u001b[49m\u001b[43m,\u001b[49m\n\u001b[0;32m    973\u001b[0m \u001b[43m        \u001b[49m\u001b[43mX\u001b[49m\u001b[43m,\u001b[49m\n\u001b[0;32m    974\u001b[0m \u001b[43m        \u001b[49m\u001b[43my\u001b[49m\u001b[43m,\u001b[49m\n\u001b[0;32m    975\u001b[0m \u001b[43m        \u001b[49m\u001b[43mtrain\u001b[49m\u001b[38;5;241;43m=\u001b[39;49m\u001b[43mtrain\u001b[49m\u001b[43m,\u001b[49m\n\u001b[0;32m    976\u001b[0m \u001b[43m        \u001b[49m\u001b[43mtest\u001b[49m\u001b[38;5;241;43m=\u001b[39;49m\u001b[43mtest\u001b[49m\u001b[43m,\u001b[49m\n\u001b[0;32m    977\u001b[0m \u001b[43m        \u001b[49m\u001b[43mparameters\u001b[49m\u001b[38;5;241;43m=\u001b[39;49m\u001b[43mparameters\u001b[49m\u001b[43m,\u001b[49m\n\u001b[0;32m    978\u001b[0m \u001b[43m        \u001b[49m\u001b[43msplit_progress\u001b[49m\u001b[38;5;241;43m=\u001b[39;49m\u001b[43m(\u001b[49m\u001b[43msplit_idx\u001b[49m\u001b[43m,\u001b[49m\u001b[43m \u001b[49m\u001b[43mn_splits\u001b[49m\u001b[43m)\u001b[49m\u001b[43m,\u001b[49m\n\u001b[0;32m    979\u001b[0m \u001b[43m        \u001b[49m\u001b[43mcandidate_progress\u001b[49m\u001b[38;5;241;43m=\u001b[39;49m\u001b[43m(\u001b[49m\u001b[43mcand_idx\u001b[49m\u001b[43m,\u001b[49m\u001b[43m \u001b[49m\u001b[43mn_candidates\u001b[49m\u001b[43m)\u001b[49m\u001b[43m,\u001b[49m\n\u001b[0;32m    980\u001b[0m \u001b[43m        \u001b[49m\u001b[38;5;241;43m*\u001b[39;49m\u001b[38;5;241;43m*\u001b[39;49m\u001b[43mfit_and_score_kwargs\u001b[49m\u001b[43m,\u001b[49m\n\u001b[0;32m    981\u001b[0m \u001b[43m    \u001b[49m\u001b[43m)\u001b[49m\n\u001b[0;32m    982\u001b[0m \u001b[43m    \u001b[49m\u001b[38;5;28;43;01mfor\u001b[39;49;00m\u001b[43m \u001b[49m\u001b[43m(\u001b[49m\u001b[43mcand_idx\u001b[49m\u001b[43m,\u001b[49m\u001b[43m \u001b[49m\u001b[43mparameters\u001b[49m\u001b[43m)\u001b[49m\u001b[43m,\u001b[49m\u001b[43m \u001b[49m\u001b[43m(\u001b[49m\u001b[43msplit_idx\u001b[49m\u001b[43m,\u001b[49m\u001b[43m \u001b[49m\u001b[43m(\u001b[49m\u001b[43mtrain\u001b[49m\u001b[43m,\u001b[49m\u001b[43m \u001b[49m\u001b[43mtest\u001b[49m\u001b[43m)\u001b[49m\u001b[43m)\u001b[49m\u001b[43m \u001b[49m\u001b[38;5;129;43;01min\u001b[39;49;00m\u001b[43m \u001b[49m\u001b[43mproduct\u001b[49m\u001b[43m(\u001b[49m\n\u001b[0;32m    983\u001b[0m \u001b[43m        \u001b[49m\u001b[38;5;28;43menumerate\u001b[39;49m\u001b[43m(\u001b[49m\u001b[43mcandidate_params\u001b[49m\u001b[43m)\u001b[49m\u001b[43m,\u001b[49m\n\u001b[0;32m    984\u001b[0m \u001b[43m        \u001b[49m\u001b[38;5;28;43menumerate\u001b[39;49m\u001b[43m(\u001b[49m\u001b[43mcv\u001b[49m\u001b[38;5;241;43m.\u001b[39;49m\u001b[43msplit\u001b[49m\u001b[43m(\u001b[49m\u001b[43mX\u001b[49m\u001b[43m,\u001b[49m\u001b[43m \u001b[49m\u001b[43my\u001b[49m\u001b[43m,\u001b[49m\u001b[43m \u001b[49m\u001b[38;5;241;43m*\u001b[39;49m\u001b[38;5;241;43m*\u001b[39;49m\u001b[43mrouted_params\u001b[49m\u001b[38;5;241;43m.\u001b[39;49m\u001b[43msplitter\u001b[49m\u001b[38;5;241;43m.\u001b[39;49m\u001b[43msplit\u001b[49m\u001b[43m)\u001b[49m\u001b[43m)\u001b[49m\u001b[43m,\u001b[49m\n\u001b[0;32m    985\u001b[0m \u001b[43m    \u001b[49m\u001b[43m)\u001b[49m\n\u001b[0;32m    986\u001b[0m \u001b[43m\u001b[49m\u001b[43m)\u001b[49m\n\u001b[0;32m    988\u001b[0m \u001b[38;5;28;01mif\u001b[39;00m \u001b[38;5;28mlen\u001b[39m(out) \u001b[38;5;241m<\u001b[39m \u001b[38;5;241m1\u001b[39m:\n\u001b[0;32m    989\u001b[0m     \u001b[38;5;28;01mraise\u001b[39;00m \u001b[38;5;167;01mValueError\u001b[39;00m(\n\u001b[0;32m    990\u001b[0m         \u001b[38;5;124m\"\u001b[39m\u001b[38;5;124mNo fits were performed. \u001b[39m\u001b[38;5;124m\"\u001b[39m\n\u001b[0;32m    991\u001b[0m         \u001b[38;5;124m\"\u001b[39m\u001b[38;5;124mWas the CV iterator empty? \u001b[39m\u001b[38;5;124m\"\u001b[39m\n\u001b[0;32m    992\u001b[0m         \u001b[38;5;124m\"\u001b[39m\u001b[38;5;124mWere there no candidates?\u001b[39m\u001b[38;5;124m\"\u001b[39m\n\u001b[0;32m    993\u001b[0m     )\n",
      "File \u001b[1;32mc:\\Users\\Livan\\OneDrive\\Masaüstü\\Work\\NLP-Project\\nlpproject\\lib\\site-packages\\sklearn\\utils\\parallel.py:77\u001b[0m, in \u001b[0;36mParallel.__call__\u001b[1;34m(self, iterable)\u001b[0m\n\u001b[0;32m     72\u001b[0m config \u001b[38;5;241m=\u001b[39m get_config()\n\u001b[0;32m     73\u001b[0m iterable_with_config \u001b[38;5;241m=\u001b[39m (\n\u001b[0;32m     74\u001b[0m     (_with_config(delayed_func, config), args, kwargs)\n\u001b[0;32m     75\u001b[0m     \u001b[38;5;28;01mfor\u001b[39;00m delayed_func, args, kwargs \u001b[38;5;129;01min\u001b[39;00m iterable\n\u001b[0;32m     76\u001b[0m )\n\u001b[1;32m---> 77\u001b[0m \u001b[38;5;28;01mreturn\u001b[39;00m \u001b[38;5;28;43msuper\u001b[39;49m\u001b[43m(\u001b[49m\u001b[43m)\u001b[49m\u001b[38;5;241;43m.\u001b[39;49m\u001b[38;5;21;43m__call__\u001b[39;49m\u001b[43m(\u001b[49m\u001b[43miterable_with_config\u001b[49m\u001b[43m)\u001b[49m\n",
      "File \u001b[1;32mc:\\Users\\Livan\\OneDrive\\Masaüstü\\Work\\NLP-Project\\nlpproject\\lib\\site-packages\\joblib\\parallel.py:2007\u001b[0m, in \u001b[0;36mParallel.__call__\u001b[1;34m(self, iterable)\u001b[0m\n\u001b[0;32m   2001\u001b[0m \u001b[38;5;66;03m# The first item from the output is blank, but it makes the interpreter\u001b[39;00m\n\u001b[0;32m   2002\u001b[0m \u001b[38;5;66;03m# progress until it enters the Try/Except block of the generator and\u001b[39;00m\n\u001b[0;32m   2003\u001b[0m \u001b[38;5;66;03m# reaches the first `yield` statement. This starts the asynchronous\u001b[39;00m\n\u001b[0;32m   2004\u001b[0m \u001b[38;5;66;03m# dispatch of the tasks to the workers.\u001b[39;00m\n\u001b[0;32m   2005\u001b[0m \u001b[38;5;28mnext\u001b[39m(output)\n\u001b[1;32m-> 2007\u001b[0m \u001b[38;5;28;01mreturn\u001b[39;00m output \u001b[38;5;28;01mif\u001b[39;00m \u001b[38;5;28mself\u001b[39m\u001b[38;5;241m.\u001b[39mreturn_generator \u001b[38;5;28;01melse\u001b[39;00m \u001b[38;5;28;43mlist\u001b[39;49m\u001b[43m(\u001b[49m\u001b[43moutput\u001b[49m\u001b[43m)\u001b[49m\n",
      "File \u001b[1;32mc:\\Users\\Livan\\OneDrive\\Masaüstü\\Work\\NLP-Project\\nlpproject\\lib\\site-packages\\joblib\\parallel.py:1650\u001b[0m, in \u001b[0;36mParallel._get_outputs\u001b[1;34m(self, iterator, pre_dispatch)\u001b[0m\n\u001b[0;32m   1647\u001b[0m     \u001b[38;5;28;01myield\u001b[39;00m\n\u001b[0;32m   1649\u001b[0m     \u001b[38;5;28;01mwith\u001b[39;00m \u001b[38;5;28mself\u001b[39m\u001b[38;5;241m.\u001b[39m_backend\u001b[38;5;241m.\u001b[39mretrieval_context():\n\u001b[1;32m-> 1650\u001b[0m         \u001b[38;5;28;01myield from\u001b[39;00m \u001b[38;5;28mself\u001b[39m\u001b[38;5;241m.\u001b[39m_retrieve()\n\u001b[0;32m   1652\u001b[0m \u001b[38;5;28;01mexcept\u001b[39;00m \u001b[38;5;167;01mGeneratorExit\u001b[39;00m:\n\u001b[0;32m   1653\u001b[0m     \u001b[38;5;66;03m# The generator has been garbage collected before being fully\u001b[39;00m\n\u001b[0;32m   1654\u001b[0m     \u001b[38;5;66;03m# consumed. This aborts the remaining tasks if possible and warn\u001b[39;00m\n\u001b[0;32m   1655\u001b[0m     \u001b[38;5;66;03m# the user if necessary.\u001b[39;00m\n\u001b[0;32m   1656\u001b[0m     \u001b[38;5;28mself\u001b[39m\u001b[38;5;241m.\u001b[39m_exception \u001b[38;5;241m=\u001b[39m \u001b[38;5;28;01mTrue\u001b[39;00m\n",
      "File \u001b[1;32mc:\\Users\\Livan\\OneDrive\\Masaüstü\\Work\\NLP-Project\\nlpproject\\lib\\site-packages\\joblib\\parallel.py:1762\u001b[0m, in \u001b[0;36mParallel._retrieve\u001b[1;34m(self)\u001b[0m\n\u001b[0;32m   1757\u001b[0m \u001b[38;5;66;03m# If the next job is not ready for retrieval yet, we just wait for\u001b[39;00m\n\u001b[0;32m   1758\u001b[0m \u001b[38;5;66;03m# async callbacks to progress.\u001b[39;00m\n\u001b[0;32m   1759\u001b[0m \u001b[38;5;28;01mif\u001b[39;00m ((\u001b[38;5;28mlen\u001b[39m(\u001b[38;5;28mself\u001b[39m\u001b[38;5;241m.\u001b[39m_jobs) \u001b[38;5;241m==\u001b[39m \u001b[38;5;241m0\u001b[39m) \u001b[38;5;129;01mor\u001b[39;00m\n\u001b[0;32m   1760\u001b[0m     (\u001b[38;5;28mself\u001b[39m\u001b[38;5;241m.\u001b[39m_jobs[\u001b[38;5;241m0\u001b[39m]\u001b[38;5;241m.\u001b[39mget_status(\n\u001b[0;32m   1761\u001b[0m         timeout\u001b[38;5;241m=\u001b[39m\u001b[38;5;28mself\u001b[39m\u001b[38;5;241m.\u001b[39mtimeout) \u001b[38;5;241m==\u001b[39m TASK_PENDING)):\n\u001b[1;32m-> 1762\u001b[0m     \u001b[43mtime\u001b[49m\u001b[38;5;241;43m.\u001b[39;49m\u001b[43msleep\u001b[49m\u001b[43m(\u001b[49m\u001b[38;5;241;43m0.01\u001b[39;49m\u001b[43m)\u001b[49m\n\u001b[0;32m   1763\u001b[0m     \u001b[38;5;28;01mcontinue\u001b[39;00m\n\u001b[0;32m   1765\u001b[0m \u001b[38;5;66;03m# We need to be careful: the job list can be filling up as\u001b[39;00m\n\u001b[0;32m   1766\u001b[0m \u001b[38;5;66;03m# we empty it and Python list are not thread-safe by\u001b[39;00m\n\u001b[0;32m   1767\u001b[0m \u001b[38;5;66;03m# default hence the use of the lock\u001b[39;00m\n",
      "\u001b[1;31mKeyboardInterrupt\u001b[0m: "
     ]
    }
   ],
   "source": [
    "from sklearn.model_selection import cross_val_score\n",
    "\n",
    "results = {}\n",
    "\n",
    "for name, (model, param_grid) in models.items():\n",
    "    print(f\"\\nTraining and tuning {name}...\")\n",
    "    pipeline = Pipeline([('clf', model)])\n",
    "    \n",
    "    grid = GridSearchCV(\n",
    "        pipeline, \n",
    "        param_grid, \n",
    "        cv=cv_strategy, \n",
    "        scoring='f1_macro',\n",
    "        n_jobs=-1,\n",
    "        verbose=1\n",
    "    )\n",
    "    \n",
    "    grid.fit(X_train, y_train)\n",
    "    best_model = grid.best_estimator_\n",
    "    \n",
    "    cv_scores = cross_val_score(best_model, X_train, y_train, \n",
    "                                cv=cv_strategy, scoring='f1_macro')\n",
    "\n",
    "    y_train_pred = best_model.predict(X_train)\n",
    "    y_test_pred = best_model.predict(X_test)\n",
    "\n",
    "    train_acc = accuracy_score(y_train, y_train_pred)\n",
    "    test_acc = accuracy_score(y_test, y_test_pred)\n",
    "    cv_mean = cv_scores.mean()\n",
    "    cv_std = cv_scores.std()\n",
    "\n",
    "    print(f\"{name}\")\n",
    "    print(f\"  - CV Score: {cv_mean:.4f} (+/- {cv_std * 2:.4f})\")\n",
    "    print(f\"  - Training Accuracy: {train_acc:.4f}\")\n",
    "    print(f\"  - Testing Accuracy : {test_acc:.4f}\")\n",
    "    print(f\"  - Gap: {train_acc - test_acc:.4f}\")\n",
    "    print(f\"  - Best Params: {grid.best_params_}\")\n",
    "\n",
    "    results[name] = {\n",
    "        'model': best_model,\n",
    "        'train_acc': train_acc,\n",
    "        'test_acc': test_acc,\n",
    "        'cv_score': cv_mean,\n",
    "        'cv_std': cv_std,\n",
    "        'acc_gap': train_acc - test_acc,\n",
    "        'params': grid.best_params_\n",
    "    }\n"
   ]
  },
  {
   "cell_type": "markdown",
   "id": "7fd4a8c9",
   "metadata": {},
   "source": [
    "Model Accuracy Comparison"
   ]
  },
  {
   "cell_type": "code",
   "execution_count": null,
   "id": "0e402579",
   "metadata": {},
   "outputs": [
    {
     "data": {
      "image/png": "[encoded data removed]",
      "text/plain": [
       "<Figure size 800x500 with 1 Axes>"
      ]
     },
     "metadata": {},
     "output_type": "display_data"
    }
   ],
   "source": [
    "names = list(results.keys())\n",
    "accuracies = [results[name]['test_acc'] for name in names] \n",
    "\n",
    "plt.figure(figsize=(8, 5))\n",
    "plt.bar(names, accuracies, color='skyblue')\n",
    "plt.ylabel(\"Test Accuracy\")\n",
    "plt.title(\"Model Comparison (Test Set)\")\n",
    "plt.ylim(0.8, 1.0)\n",
    "plt.grid(True, axis='y')\n",
    "plt.show()\n"
   ]
  },
  {
   "cell_type": "markdown",
   "id": "0f75dd5a",
   "metadata": {},
   "source": [
    "Model Training and Test Accuracy Comparison"
   ]
  },
  {
   "cell_type": "code",
   "execution_count": null,
   "id": "adb8dc44",
   "metadata": {},
   "outputs": [
    {
     "data": {
      "image/png": "[encoded data removed]",
      "text/plain": [
       "<Figure size 1000x600 with 1 Axes>"
      ]
     },
     "metadata": {},
     "output_type": "display_data"
    }
   ],
   "source": [
    "model_names = list(results.keys())\n",
    "train_scores = [results[m]['train_acc'] for m in model_names]\n",
    "test_scores = [results[m]['test_acc'] for m in model_names]\n",
    "gaps = [results[m]['acc_gap'] for m in model_names]\n",
    "\n",
    "plt.figure(figsize=(10, 6))\n",
    "bar_width = 0.35\n",
    "x = range(len(model_names))\n",
    "\n",
    "plt.bar(x, train_scores, width=bar_width, label='Train Accuracy')\n",
    "plt.bar([i + bar_width for i in x], test_scores, width=bar_width, label='Test Accuracy')\n",
    "plt.xticks([i + bar_width / 2 for i in x], model_names)\n",
    "plt.ylim(0.6, 1.0)\n",
    "plt.title('Train vs Test Accuracy (Overfitting Check)')\n",
    "plt.xlabel('Model')\n",
    "plt.ylabel('Accuracy')\n",
    "plt.legend()\n",
    "plt.grid(True, axis='y')\n",
    "plt.show()\n"
   ]
  },
  {
   "cell_type": "markdown",
   "id": "5ff3b38d",
   "metadata": {},
   "source": [
    "Classification Report"
   ]
  },
  {
   "cell_type": "code",
   "execution_count": null,
   "id": "bfd08b2a",
   "metadata": {},
   "outputs": [
    {
     "name": "stdout",
     "output_type": "stream",
     "text": [
      "\n",
      "==============================\n",
      "Classification Reports\n",
      "==============================\n",
      "\n",
      "Model: LogisticRegression\n",
      "               precision    recall  f1-score   support\n",
      "\n",
      "     business       0.94      0.97      0.96       115\n",
      "entertainment       0.99      0.97      0.98        72\n",
      "     politics       0.95      0.96      0.95        76\n",
      "        sport       1.00      0.99      1.00       102\n",
      "         tech       0.99      0.95      0.97        80\n",
      "\n",
      "     accuracy                           0.97       445\n",
      "    macro avg       0.97      0.97      0.97       445\n",
      " weighted avg       0.97      0.97      0.97       445\n",
      "\n",
      "\n",
      "Model: DecisionTree\n",
      "               precision    recall  f1-score   support\n",
      "\n",
      "     business       0.78      0.76      0.77       115\n",
      "entertainment       0.83      0.68      0.75        72\n",
      "     politics       0.74      0.82      0.78        76\n",
      "        sport       0.82      0.84      0.83       102\n",
      "         tech       0.78      0.84      0.81        80\n",
      "\n",
      "     accuracy                           0.79       445\n",
      "    macro avg       0.79      0.79      0.79       445\n",
      " weighted avg       0.79      0.79      0.79       445\n",
      "\n",
      "\n",
      "Model: SVM\n",
      "               precision    recall  f1-score   support\n",
      "\n",
      "     business       0.96      0.98      0.97       115\n",
      "entertainment       0.99      0.97      0.98        72\n",
      "     politics       0.96      0.96      0.96        76\n",
      "        sport       1.00      0.99      1.00       102\n",
      "         tech       0.99      0.97      0.98        80\n",
      "\n",
      "     accuracy                           0.98       445\n",
      "    macro avg       0.98      0.98      0.98       445\n",
      " weighted avg       0.98      0.98      0.98       445\n",
      "\n",
      "\n",
      "Model: MLP\n",
      "               precision    recall  f1-score   support\n",
      "\n",
      "     business       0.96      0.98      0.97       115\n",
      "entertainment       0.99      0.97      0.98        72\n",
      "     politics       0.96      0.96      0.96        76\n",
      "        sport       1.00      0.99      1.00       102\n",
      "         tech       0.99      0.97      0.98        80\n",
      "\n",
      "     accuracy                           0.98       445\n",
      "    macro avg       0.98      0.98      0.98       445\n",
      " weighted avg       0.98      0.98      0.98       445\n",
      "\n",
      "\n",
      "Model: VotingEnsemble\n",
      "               precision    recall  f1-score   support\n",
      "\n",
      "     business       0.95      0.98      0.97       115\n",
      "entertainment       0.99      0.97      0.98        72\n",
      "     politics       0.96      0.96      0.96        76\n",
      "        sport       1.00      0.99      1.00       102\n",
      "         tech       0.99      0.96      0.97        80\n",
      "\n",
      "     accuracy                           0.98       445\n",
      "    macro avg       0.98      0.97      0.98       445\n",
      " weighted avg       0.98      0.98      0.98       445\n",
      "\n"
     ]
    }
   ],
   "source": [
    "from sklearn.metrics import classification_report\n",
    "\n",
    "print(\"\\n\" + \"=\"*30)\n",
    "print(\"Classification Reports\")\n",
    "print(\"=\"*30)\n",
    "\n",
    "for name, data in results.items():\n",
    "    model = data['model']\n",
    "    y_pred = model.predict(X_test)\n",
    "\n",
    "    print(f\"\\nModel: {name}\")\n",
    "    print(classification_report(y_test, y_pred))\n"
   ]
  },
  {
   "cell_type": "markdown",
   "id": "4e00616b",
   "metadata": {},
   "source": [
    "Learning Curve"
   ]
  },
  {
   "cell_type": "code",
   "execution_count": null,
   "id": "406e162b",
   "metadata": {},
   "outputs": [],
   "source": [
    "from sklearn.model_selection import learning_curve\n",
    "\n",
    "def plot_learning_curves(model, X, y, title):\n",
    "    train_sizes, train_scores, val_scores = learning_curve(\n",
    "        model, X, y, cv=5, n_jobs=-1, \n",
    "        train_sizes=np.linspace(0.1, 1.0, 10),\n",
    "        scoring='f1_macro'\n",
    "    )\n",
    "    \n",
    "    plt.figure(figsize=(10, 6))\n",
    "    plt.plot(train_sizes, np.mean(train_scores, axis=1), 'o-', label='Training Score')\n",
    "    plt.plot(train_sizes, np.mean(val_scores, axis=1), 'o-', label='Validation Score')\n",
    "    plt.fill_between(train_sizes, np.mean(train_scores, axis=1) - np.std(train_scores, axis=1),\n",
    "                     np.mean(train_scores, axis=1) + np.std(train_scores, axis=1), alpha=0.1)\n",
    "    plt.fill_between(train_sizes, np.mean(val_scores, axis=1) - np.std(val_scores, axis=1),\n",
    "                     np.mean(val_scores, axis=1) + np.std(val_scores, axis=1), alpha=0.1)\n",
    "    plt.xlabel('Training Set Size')\n",
    "    plt.ylabel('F1 Score')\n",
    "    plt.title(f'Learning Curves - {title}')\n",
    "    plt.legend()\n",
    "    plt.grid(True)\n",
    "    plt.show()\n",
    "\n",
    "best_model_name = max(results.keys(), key=lambda k: results[k]['test_acc'])\n",
    "best_model = results[best_model_name]['model']\n",
    "plot_learning_curves(best_model, X_train, y_train, best_model_name)\n",
    "\n",
    "print(f\"\\nBest model: {best_model_name} with test accuracy: {results[best_model_name]['test_acc']:.4f}\")\n"
   ]
  },
  {
   "cell_type": "code",
   "execution_count": null,
   "id": "a82079b1",
   "metadata": {},
   "outputs": [
    {
     "data": {
      "text/plain": [
       "['news_classifier.pkl']"
      ]
     },
     "execution_count": 35,
     "metadata": {},
     "output_type": "execute_result"
    }
   ],
   "source": [
    "import joblib\n",
    "\n",
    "joblib.dump(vectorizer, \"tfidf_vectorizer.pkl\")\n",
    "joblib.dump(results[\"VotingEnsemble\"][\"model\"], \"news_classifier.pkl\")\n"
   ]
  },
  {
   "cell_type": "code",
   "execution_count": null,
   "id": "258e6a8b",
   "metadata": {},
   "outputs": [],
   "source": []
  }
 ],
 "metadata": {
  "kernelspec": {
   "display_name": "nlpproject",
   "language": "python",
   "name": "python3"
  },
  "language_info": {
   "codemirror_mode": {
    "name": "ipython",
    "version": 3
   },
   "file_extension": ".py",
   "mimetype": "text/x-python",
   "name": "python",
   "nbconvert_exporter": "python",
   "pygments_lexer": "ipython3",
   "version": "3.10.11"
  }
 },
 "nbformat": 4,
 "nbformat_minor": 5
}
